{
 "cells": [
  {
   "cell_type": "markdown",
   "id": "e46b06ac",
   "metadata": {},
   "source": [
    "# Business Case: Retail Customer Purchase Analysis\n",
    "\n",
    "Business Problem:-\n",
    "A retail management team is interested in examining customer purchase behavior, specifically the purchase amount, in relation to gender and other factors. Their objective is to gain insights into whether there are variations in spending between female and male customers on Black Friday. This analysis is critical for making strategic decisions.\n",
    "\n",
    "About the Retail Company:\n",
    "The retail company under consideration is a prominent American multinational corporation. It manages a network of supercenters, discount departmental stores, and grocery outlets within the United States. This retail giant serves a vast customer base of over 100 million individuals globally.\n",
    "\n",
    "About Dataset\n",
    "The company collected the transactional data of customers who purchased products from the Walmart Stores during Black Friday. The dataset has the following features:\n",
    "\n",
    "User_ID: User ID\n",
    "\n",
    "Product_ID: Product ID\n",
    "\n",
    "Gender: Sex of User\n",
    "\n",
    "Age: Age in bins\n",
    "\n",
    "Occupation: Occupation(Masked)\n",
    "\n",
    "City_Category: Category of the City (A,B,C)\n",
    "\n",
    "StayInCurrentCityYears: Number of years stay in current city\n",
    "\n",
    "Marital_Status: Marital Status\n",
    "\n",
    "ProductCategory: Product Category (Masked)\n",
    "\n",
    "Purchase: Purchase Amount\n"
   ]
  },
  {
   "cell_type": "code",
   "execution_count": 5,
   "id": "2431fea5",
   "metadata": {},
   "outputs": [],
   "source": [
    "import numpy as np\n",
    "import pandas as pd\n",
    "import matplotlib.pyplot as plt\n",
    "import seaborn as sns\n",
    "from scipy.stats import norm\n"
   ]
  },
  {
   "cell_type": "markdown",
   "id": "974c1236",
   "metadata": {},
   "source": [
    "# Read the data set"
   ]
  },
  {
   "cell_type": "code",
   "execution_count": 7,
   "id": "eb7b1db6",
   "metadata": {},
   "outputs": [
    {
     "data": {
      "text/html": [
       "<div>\n",
       "<style scoped>\n",
       "    .dataframe tbody tr th:only-of-type {\n",
       "        vertical-align: middle;\n",
       "    }\n",
       "\n",
       "    .dataframe tbody tr th {\n",
       "        vertical-align: top;\n",
       "    }\n",
       "\n",
       "    .dataframe thead th {\n",
       "        text-align: right;\n",
       "    }\n",
       "</style>\n",
       "<table border=\"1\" class=\"dataframe\">\n",
       "  <thead>\n",
       "    <tr style=\"text-align: right;\">\n",
       "      <th></th>\n",
       "      <th>User_ID</th>\n",
       "      <th>Product_ID</th>\n",
       "      <th>Gender</th>\n",
       "      <th>Age</th>\n",
       "      <th>Occupation</th>\n",
       "      <th>City_Category</th>\n",
       "      <th>Stay_In_Current_City_Years</th>\n",
       "      <th>Marital_Status</th>\n",
       "      <th>Product_Category</th>\n",
       "      <th>Purchase</th>\n",
       "    </tr>\n",
       "  </thead>\n",
       "  <tbody>\n",
       "    <tr>\n",
       "      <th>0</th>\n",
       "      <td>1000001</td>\n",
       "      <td>P00069042</td>\n",
       "      <td>F</td>\n",
       "      <td>0-17</td>\n",
       "      <td>10</td>\n",
       "      <td>A</td>\n",
       "      <td>2</td>\n",
       "      <td>0</td>\n",
       "      <td>3</td>\n",
       "      <td>8370</td>\n",
       "    </tr>\n",
       "    <tr>\n",
       "      <th>1</th>\n",
       "      <td>1000001</td>\n",
       "      <td>P00248942</td>\n",
       "      <td>F</td>\n",
       "      <td>0-17</td>\n",
       "      <td>10</td>\n",
       "      <td>A</td>\n",
       "      <td>2</td>\n",
       "      <td>0</td>\n",
       "      <td>1</td>\n",
       "      <td>15200</td>\n",
       "    </tr>\n",
       "    <tr>\n",
       "      <th>2</th>\n",
       "      <td>1000001</td>\n",
       "      <td>P00087842</td>\n",
       "      <td>F</td>\n",
       "      <td>0-17</td>\n",
       "      <td>10</td>\n",
       "      <td>A</td>\n",
       "      <td>2</td>\n",
       "      <td>0</td>\n",
       "      <td>12</td>\n",
       "      <td>1422</td>\n",
       "    </tr>\n",
       "    <tr>\n",
       "      <th>3</th>\n",
       "      <td>1000001</td>\n",
       "      <td>P00085442</td>\n",
       "      <td>F</td>\n",
       "      <td>0-17</td>\n",
       "      <td>10</td>\n",
       "      <td>A</td>\n",
       "      <td>2</td>\n",
       "      <td>0</td>\n",
       "      <td>12</td>\n",
       "      <td>1057</td>\n",
       "    </tr>\n",
       "    <tr>\n",
       "      <th>4</th>\n",
       "      <td>1000002</td>\n",
       "      <td>P00285442</td>\n",
       "      <td>M</td>\n",
       "      <td>55+</td>\n",
       "      <td>16</td>\n",
       "      <td>C</td>\n",
       "      <td>4+</td>\n",
       "      <td>0</td>\n",
       "      <td>8</td>\n",
       "      <td>7969</td>\n",
       "    </tr>\n",
       "    <tr>\n",
       "      <th>...</th>\n",
       "      <td>...</td>\n",
       "      <td>...</td>\n",
       "      <td>...</td>\n",
       "      <td>...</td>\n",
       "      <td>...</td>\n",
       "      <td>...</td>\n",
       "      <td>...</td>\n",
       "      <td>...</td>\n",
       "      <td>...</td>\n",
       "      <td>...</td>\n",
       "    </tr>\n",
       "    <tr>\n",
       "      <th>550063</th>\n",
       "      <td>1006033</td>\n",
       "      <td>P00372445</td>\n",
       "      <td>M</td>\n",
       "      <td>51-55</td>\n",
       "      <td>13</td>\n",
       "      <td>B</td>\n",
       "      <td>1</td>\n",
       "      <td>1</td>\n",
       "      <td>20</td>\n",
       "      <td>368</td>\n",
       "    </tr>\n",
       "    <tr>\n",
       "      <th>550064</th>\n",
       "      <td>1006035</td>\n",
       "      <td>P00375436</td>\n",
       "      <td>F</td>\n",
       "      <td>26-35</td>\n",
       "      <td>1</td>\n",
       "      <td>C</td>\n",
       "      <td>3</td>\n",
       "      <td>0</td>\n",
       "      <td>20</td>\n",
       "      <td>371</td>\n",
       "    </tr>\n",
       "    <tr>\n",
       "      <th>550065</th>\n",
       "      <td>1006036</td>\n",
       "      <td>P00375436</td>\n",
       "      <td>F</td>\n",
       "      <td>26-35</td>\n",
       "      <td>15</td>\n",
       "      <td>B</td>\n",
       "      <td>4+</td>\n",
       "      <td>1</td>\n",
       "      <td>20</td>\n",
       "      <td>137</td>\n",
       "    </tr>\n",
       "    <tr>\n",
       "      <th>550066</th>\n",
       "      <td>1006038</td>\n",
       "      <td>P00375436</td>\n",
       "      <td>F</td>\n",
       "      <td>55+</td>\n",
       "      <td>1</td>\n",
       "      <td>C</td>\n",
       "      <td>2</td>\n",
       "      <td>0</td>\n",
       "      <td>20</td>\n",
       "      <td>365</td>\n",
       "    </tr>\n",
       "    <tr>\n",
       "      <th>550067</th>\n",
       "      <td>1006039</td>\n",
       "      <td>P00371644</td>\n",
       "      <td>F</td>\n",
       "      <td>46-50</td>\n",
       "      <td>0</td>\n",
       "      <td>B</td>\n",
       "      <td>4+</td>\n",
       "      <td>1</td>\n",
       "      <td>20</td>\n",
       "      <td>490</td>\n",
       "    </tr>\n",
       "  </tbody>\n",
       "</table>\n",
       "<p>550068 rows × 10 columns</p>\n",
       "</div>"
      ],
      "text/plain": [
       "        User_ID Product_ID Gender    Age  Occupation City_Category  \\\n",
       "0       1000001  P00069042      F   0-17          10             A   \n",
       "1       1000001  P00248942      F   0-17          10             A   \n",
       "2       1000001  P00087842      F   0-17          10             A   \n",
       "3       1000001  P00085442      F   0-17          10             A   \n",
       "4       1000002  P00285442      M    55+          16             C   \n",
       "...         ...        ...    ...    ...         ...           ...   \n",
       "550063  1006033  P00372445      M  51-55          13             B   \n",
       "550064  1006035  P00375436      F  26-35           1             C   \n",
       "550065  1006036  P00375436      F  26-35          15             B   \n",
       "550066  1006038  P00375436      F    55+           1             C   \n",
       "550067  1006039  P00371644      F  46-50           0             B   \n",
       "\n",
       "       Stay_In_Current_City_Years  Marital_Status  Product_Category  Purchase  \n",
       "0                               2               0                 3      8370  \n",
       "1                               2               0                 1     15200  \n",
       "2                               2               0                12      1422  \n",
       "3                               2               0                12      1057  \n",
       "4                              4+               0                 8      7969  \n",
       "...                           ...             ...               ...       ...  \n",
       "550063                          1               1                20       368  \n",
       "550064                          3               0                20       371  \n",
       "550065                         4+               1                20       137  \n",
       "550066                          2               0                20       365  \n",
       "550067                         4+               1                20       490  \n",
       "\n",
       "[550068 rows x 10 columns]"
      ]
     },
     "execution_count": 7,
     "metadata": {},
     "output_type": "execute_result"
    }
   ],
   "source": [
    "\n",
    "df=pd.read_csv(\"https://d2beiqkhq929f0.cloudfront.net/public_assets/assets/000/001/293/original/walmart_data.csv?1641285094\")\n",
    "df"
   ]
  },
  {
   "cell_type": "markdown",
   "id": "9eda144d",
   "metadata": {},
   "source": [
    "# Analyzing basic metrics about dataset"
   ]
  },
  {
   "cell_type": "code",
   "execution_count": 8,
   "id": "8c8b2fd9",
   "metadata": {},
   "outputs": [
    {
     "name": "stdout",
     "output_type": "stream",
     "text": [
      "rows: 550068 column: 10\n"
     ]
    }
   ],
   "source": [
    "#shape(rows,column)\n",
    "print(\"rows:\",df.shape[0],\"column:\",df.shape[1])"
   ]
  },
  {
   "cell_type": "code",
   "execution_count": 9,
   "id": "6ea2cdb4",
   "metadata": {},
   "outputs": [
    {
     "data": {
      "text/plain": [
       "5500680"
      ]
     },
     "execution_count": 9,
     "metadata": {},
     "output_type": "execute_result"
    }
   ],
   "source": [
    "df.size"
   ]
  },
  {
   "cell_type": "code",
   "execution_count": 10,
   "id": "b24d8db3",
   "metadata": {},
   "outputs": [
    {
     "data": {
      "text/plain": [
       "User_ID                        int64\n",
       "Product_ID                    object\n",
       "Gender                        object\n",
       "Age                           object\n",
       "Occupation                     int64\n",
       "City_Category                 object\n",
       "Stay_In_Current_City_Years    object\n",
       "Marital_Status                 int64\n",
       "Product_Category               int64\n",
       "Purchase                       int64\n",
       "dtype: object"
      ]
     },
     "execution_count": 10,
     "metadata": {},
     "output_type": "execute_result"
    }
   ],
   "source": [
    "#Data types of column\n",
    "df.dtypes"
   ]
  },
  {
   "cell_type": "code",
   "execution_count": 11,
   "id": "2bcfbeed",
   "metadata": {},
   "outputs": [
    {
     "data": {
      "text/plain": [
       "Index(['User_ID', 'Product_ID', 'Gender', 'Age', 'Occupation', 'City_Category',\n",
       "       'Stay_In_Current_City_Years', 'Marital_Status', 'Product_Category',\n",
       "       'Purchase'],\n",
       "      dtype='object')"
      ]
     },
     "execution_count": 11,
     "metadata": {},
     "output_type": "execute_result"
    }
   ],
   "source": [
    "#columns_name\n",
    "df.columns"
   ]
  },
  {
   "cell_type": "code",
   "execution_count": 12,
   "id": "4bdec30a",
   "metadata": {},
   "outputs": [
    {
     "name": "stdout",
     "output_type": "stream",
     "text": [
      "<class 'pandas.core.frame.DataFrame'>\n",
      "RangeIndex: 550068 entries, 0 to 550067\n",
      "Data columns (total 10 columns):\n",
      " #   Column                      Non-Null Count   Dtype \n",
      "---  ------                      --------------   ----- \n",
      " 0   User_ID                     550068 non-null  int64 \n",
      " 1   Product_ID                  550068 non-null  object\n",
      " 2   Gender                      550068 non-null  object\n",
      " 3   Age                         550068 non-null  object\n",
      " 4   Occupation                  550068 non-null  int64 \n",
      " 5   City_Category               550068 non-null  object\n",
      " 6   Stay_In_Current_City_Years  550068 non-null  object\n",
      " 7   Marital_Status              550068 non-null  int64 \n",
      " 8   Product_Category            550068 non-null  int64 \n",
      " 9   Purchase                    550068 non-null  int64 \n",
      "dtypes: int64(5), object(5)\n",
      "memory usage: 42.0+ MB\n"
     ]
    }
   ],
   "source": [
    "#dataset information\n",
    "df.info()"
   ]
  },
  {
   "cell_type": "code",
   "execution_count": 13,
   "id": "09c382a9",
   "metadata": {},
   "outputs": [],
   "source": [
    "# conversion of categorical attributes to 'category'\n",
    "column=[\"User_ID\",\"Occupation\",\"Marital_Status\",\"Product_Category\"]\n",
    "df[column]=df[column].astype(\"object\")"
   ]
  },
  {
   "cell_type": "code",
   "execution_count": 14,
   "id": "37493235",
   "metadata": {},
   "outputs": [
    {
     "data": {
      "text/plain": [
       "User_ID                       object\n",
       "Product_ID                    object\n",
       "Gender                        object\n",
       "Age                           object\n",
       "Occupation                    object\n",
       "City_Category                 object\n",
       "Stay_In_Current_City_Years    object\n",
       "Marital_Status                object\n",
       "Product_Category              object\n",
       "Purchase                       int64\n",
       "dtype: object"
      ]
     },
     "execution_count": 14,
     "metadata": {},
     "output_type": "execute_result"
    }
   ],
   "source": [
    "df.dtypes"
   ]
  },
  {
   "cell_type": "code",
   "execution_count": 15,
   "id": "18b902c2",
   "metadata": {},
   "outputs": [
    {
     "data": {
      "text/html": [
       "<div>\n",
       "<style scoped>\n",
       "    .dataframe tbody tr th:only-of-type {\n",
       "        vertical-align: middle;\n",
       "    }\n",
       "\n",
       "    .dataframe tbody tr th {\n",
       "        vertical-align: top;\n",
       "    }\n",
       "\n",
       "    .dataframe thead th {\n",
       "        text-align: right;\n",
       "    }\n",
       "</style>\n",
       "<table border=\"1\" class=\"dataframe\">\n",
       "  <thead>\n",
       "    <tr style=\"text-align: right;\">\n",
       "      <th></th>\n",
       "      <th>Purchase</th>\n",
       "    </tr>\n",
       "  </thead>\n",
       "  <tbody>\n",
       "    <tr>\n",
       "      <th>count</th>\n",
       "      <td>550068.000000</td>\n",
       "    </tr>\n",
       "    <tr>\n",
       "      <th>mean</th>\n",
       "      <td>9263.968713</td>\n",
       "    </tr>\n",
       "    <tr>\n",
       "      <th>std</th>\n",
       "      <td>5023.065394</td>\n",
       "    </tr>\n",
       "    <tr>\n",
       "      <th>min</th>\n",
       "      <td>12.000000</td>\n",
       "    </tr>\n",
       "    <tr>\n",
       "      <th>25%</th>\n",
       "      <td>5823.000000</td>\n",
       "    </tr>\n",
       "    <tr>\n",
       "      <th>50%</th>\n",
       "      <td>8047.000000</td>\n",
       "    </tr>\n",
       "    <tr>\n",
       "      <th>75%</th>\n",
       "      <td>12054.000000</td>\n",
       "    </tr>\n",
       "    <tr>\n",
       "      <th>max</th>\n",
       "      <td>23961.000000</td>\n",
       "    </tr>\n",
       "  </tbody>\n",
       "</table>\n",
       "</div>"
      ],
      "text/plain": [
       "            Purchase\n",
       "count  550068.000000\n",
       "mean     9263.968713\n",
       "std      5023.065394\n",
       "min        12.000000\n",
       "25%      5823.000000\n",
       "50%      8047.000000\n",
       "75%     12054.000000\n",
       "max     23961.000000"
      ]
     },
     "execution_count": 15,
     "metadata": {},
     "output_type": "execute_result"
    }
   ],
   "source": [
    "#statistical summary\n",
    "df.describe()"
   ]
  },
  {
   "cell_type": "code",
   "execution_count": 16,
   "id": "7364d03a",
   "metadata": {},
   "outputs": [
    {
     "data": {
      "text/html": [
       "<div>\n",
       "<style scoped>\n",
       "    .dataframe tbody tr th:only-of-type {\n",
       "        vertical-align: middle;\n",
       "    }\n",
       "\n",
       "    .dataframe tbody tr th {\n",
       "        vertical-align: top;\n",
       "    }\n",
       "\n",
       "    .dataframe thead th {\n",
       "        text-align: right;\n",
       "    }\n",
       "</style>\n",
       "<table border=\"1\" class=\"dataframe\">\n",
       "  <thead>\n",
       "    <tr style=\"text-align: right;\">\n",
       "      <th></th>\n",
       "      <th>User_ID</th>\n",
       "      <th>Product_ID</th>\n",
       "      <th>Gender</th>\n",
       "      <th>Age</th>\n",
       "      <th>Occupation</th>\n",
       "      <th>City_Category</th>\n",
       "      <th>Stay_In_Current_City_Years</th>\n",
       "      <th>Marital_Status</th>\n",
       "      <th>Product_Category</th>\n",
       "      <th>Purchase</th>\n",
       "    </tr>\n",
       "  </thead>\n",
       "  <tbody>\n",
       "    <tr>\n",
       "      <th>count</th>\n",
       "      <td>550068.0</td>\n",
       "      <td>550068</td>\n",
       "      <td>550068</td>\n",
       "      <td>550068</td>\n",
       "      <td>550068.0</td>\n",
       "      <td>550068</td>\n",
       "      <td>550068</td>\n",
       "      <td>550068.0</td>\n",
       "      <td>550068.0</td>\n",
       "      <td>550068.000000</td>\n",
       "    </tr>\n",
       "    <tr>\n",
       "      <th>unique</th>\n",
       "      <td>5891.0</td>\n",
       "      <td>3631</td>\n",
       "      <td>2</td>\n",
       "      <td>7</td>\n",
       "      <td>21.0</td>\n",
       "      <td>3</td>\n",
       "      <td>5</td>\n",
       "      <td>2.0</td>\n",
       "      <td>20.0</td>\n",
       "      <td>NaN</td>\n",
       "    </tr>\n",
       "    <tr>\n",
       "      <th>top</th>\n",
       "      <td>1001680.0</td>\n",
       "      <td>P00265242</td>\n",
       "      <td>M</td>\n",
       "      <td>26-35</td>\n",
       "      <td>4.0</td>\n",
       "      <td>B</td>\n",
       "      <td>1</td>\n",
       "      <td>0.0</td>\n",
       "      <td>5.0</td>\n",
       "      <td>NaN</td>\n",
       "    </tr>\n",
       "    <tr>\n",
       "      <th>freq</th>\n",
       "      <td>1026.0</td>\n",
       "      <td>1880</td>\n",
       "      <td>414259</td>\n",
       "      <td>219587</td>\n",
       "      <td>72308.0</td>\n",
       "      <td>231173</td>\n",
       "      <td>193821</td>\n",
       "      <td>324731.0</td>\n",
       "      <td>150933.0</td>\n",
       "      <td>NaN</td>\n",
       "    </tr>\n",
       "    <tr>\n",
       "      <th>mean</th>\n",
       "      <td>NaN</td>\n",
       "      <td>NaN</td>\n",
       "      <td>NaN</td>\n",
       "      <td>NaN</td>\n",
       "      <td>NaN</td>\n",
       "      <td>NaN</td>\n",
       "      <td>NaN</td>\n",
       "      <td>NaN</td>\n",
       "      <td>NaN</td>\n",
       "      <td>9263.968713</td>\n",
       "    </tr>\n",
       "    <tr>\n",
       "      <th>std</th>\n",
       "      <td>NaN</td>\n",
       "      <td>NaN</td>\n",
       "      <td>NaN</td>\n",
       "      <td>NaN</td>\n",
       "      <td>NaN</td>\n",
       "      <td>NaN</td>\n",
       "      <td>NaN</td>\n",
       "      <td>NaN</td>\n",
       "      <td>NaN</td>\n",
       "      <td>5023.065394</td>\n",
       "    </tr>\n",
       "    <tr>\n",
       "      <th>min</th>\n",
       "      <td>NaN</td>\n",
       "      <td>NaN</td>\n",
       "      <td>NaN</td>\n",
       "      <td>NaN</td>\n",
       "      <td>NaN</td>\n",
       "      <td>NaN</td>\n",
       "      <td>NaN</td>\n",
       "      <td>NaN</td>\n",
       "      <td>NaN</td>\n",
       "      <td>12.000000</td>\n",
       "    </tr>\n",
       "    <tr>\n",
       "      <th>25%</th>\n",
       "      <td>NaN</td>\n",
       "      <td>NaN</td>\n",
       "      <td>NaN</td>\n",
       "      <td>NaN</td>\n",
       "      <td>NaN</td>\n",
       "      <td>NaN</td>\n",
       "      <td>NaN</td>\n",
       "      <td>NaN</td>\n",
       "      <td>NaN</td>\n",
       "      <td>5823.000000</td>\n",
       "    </tr>\n",
       "    <tr>\n",
       "      <th>50%</th>\n",
       "      <td>NaN</td>\n",
       "      <td>NaN</td>\n",
       "      <td>NaN</td>\n",
       "      <td>NaN</td>\n",
       "      <td>NaN</td>\n",
       "      <td>NaN</td>\n",
       "      <td>NaN</td>\n",
       "      <td>NaN</td>\n",
       "      <td>NaN</td>\n",
       "      <td>8047.000000</td>\n",
       "    </tr>\n",
       "    <tr>\n",
       "      <th>75%</th>\n",
       "      <td>NaN</td>\n",
       "      <td>NaN</td>\n",
       "      <td>NaN</td>\n",
       "      <td>NaN</td>\n",
       "      <td>NaN</td>\n",
       "      <td>NaN</td>\n",
       "      <td>NaN</td>\n",
       "      <td>NaN</td>\n",
       "      <td>NaN</td>\n",
       "      <td>12054.000000</td>\n",
       "    </tr>\n",
       "    <tr>\n",
       "      <th>max</th>\n",
       "      <td>NaN</td>\n",
       "      <td>NaN</td>\n",
       "      <td>NaN</td>\n",
       "      <td>NaN</td>\n",
       "      <td>NaN</td>\n",
       "      <td>NaN</td>\n",
       "      <td>NaN</td>\n",
       "      <td>NaN</td>\n",
       "      <td>NaN</td>\n",
       "      <td>23961.000000</td>\n",
       "    </tr>\n",
       "  </tbody>\n",
       "</table>\n",
       "</div>"
      ],
      "text/plain": [
       "          User_ID Product_ID  Gender     Age  Occupation City_Category  \\\n",
       "count    550068.0     550068  550068  550068    550068.0        550068   \n",
       "unique     5891.0       3631       2       7        21.0             3   \n",
       "top     1001680.0  P00265242       M   26-35         4.0             B   \n",
       "freq       1026.0       1880  414259  219587     72308.0        231173   \n",
       "mean          NaN        NaN     NaN     NaN         NaN           NaN   \n",
       "std           NaN        NaN     NaN     NaN         NaN           NaN   \n",
       "min           NaN        NaN     NaN     NaN         NaN           NaN   \n",
       "25%           NaN        NaN     NaN     NaN         NaN           NaN   \n",
       "50%           NaN        NaN     NaN     NaN         NaN           NaN   \n",
       "75%           NaN        NaN     NaN     NaN         NaN           NaN   \n",
       "max           NaN        NaN     NaN     NaN         NaN           NaN   \n",
       "\n",
       "       Stay_In_Current_City_Years  Marital_Status  Product_Category  \\\n",
       "count                      550068        550068.0          550068.0   \n",
       "unique                          5             2.0              20.0   \n",
       "top                             1             0.0               5.0   \n",
       "freq                       193821        324731.0          150933.0   \n",
       "mean                          NaN             NaN               NaN   \n",
       "std                           NaN             NaN               NaN   \n",
       "min                           NaN             NaN               NaN   \n",
       "25%                           NaN             NaN               NaN   \n",
       "50%                           NaN             NaN               NaN   \n",
       "75%                           NaN             NaN               NaN   \n",
       "max                           NaN             NaN               NaN   \n",
       "\n",
       "             Purchase  \n",
       "count   550068.000000  \n",
       "unique            NaN  \n",
       "top               NaN  \n",
       "freq              NaN  \n",
       "mean      9263.968713  \n",
       "std       5023.065394  \n",
       "min         12.000000  \n",
       "25%       5823.000000  \n",
       "50%       8047.000000  \n",
       "75%      12054.000000  \n",
       "max      23961.000000  "
      ]
     },
     "execution_count": 16,
     "metadata": {},
     "output_type": "execute_result"
    }
   ],
   "source": [
    "df.describe(include=\"all\")"
   ]
  },
  {
   "cell_type": "code",
   "execution_count": 17,
   "id": "06884452",
   "metadata": {},
   "outputs": [
    {
     "data": {
      "text/html": [
       "<div>\n",
       "<style scoped>\n",
       "    .dataframe tbody tr th:only-of-type {\n",
       "        vertical-align: middle;\n",
       "    }\n",
       "\n",
       "    .dataframe tbody tr th {\n",
       "        vertical-align: top;\n",
       "    }\n",
       "\n",
       "    .dataframe thead th {\n",
       "        text-align: right;\n",
       "    }\n",
       "</style>\n",
       "<table border=\"1\" class=\"dataframe\">\n",
       "  <thead>\n",
       "    <tr style=\"text-align: right;\">\n",
       "      <th></th>\n",
       "      <th>User_ID</th>\n",
       "      <th>Product_ID</th>\n",
       "      <th>Gender</th>\n",
       "      <th>Age</th>\n",
       "      <th>Occupation</th>\n",
       "      <th>City_Category</th>\n",
       "      <th>Stay_In_Current_City_Years</th>\n",
       "      <th>Marital_Status</th>\n",
       "      <th>Product_Category</th>\n",
       "    </tr>\n",
       "  </thead>\n",
       "  <tbody>\n",
       "    <tr>\n",
       "      <th>count</th>\n",
       "      <td>550068</td>\n",
       "      <td>550068</td>\n",
       "      <td>550068</td>\n",
       "      <td>550068</td>\n",
       "      <td>550068</td>\n",
       "      <td>550068</td>\n",
       "      <td>550068</td>\n",
       "      <td>550068</td>\n",
       "      <td>550068</td>\n",
       "    </tr>\n",
       "    <tr>\n",
       "      <th>unique</th>\n",
       "      <td>5891</td>\n",
       "      <td>3631</td>\n",
       "      <td>2</td>\n",
       "      <td>7</td>\n",
       "      <td>21</td>\n",
       "      <td>3</td>\n",
       "      <td>5</td>\n",
       "      <td>2</td>\n",
       "      <td>20</td>\n",
       "    </tr>\n",
       "    <tr>\n",
       "      <th>top</th>\n",
       "      <td>1001680</td>\n",
       "      <td>P00265242</td>\n",
       "      <td>M</td>\n",
       "      <td>26-35</td>\n",
       "      <td>4</td>\n",
       "      <td>B</td>\n",
       "      <td>1</td>\n",
       "      <td>0</td>\n",
       "      <td>5</td>\n",
       "    </tr>\n",
       "    <tr>\n",
       "      <th>freq</th>\n",
       "      <td>1026</td>\n",
       "      <td>1880</td>\n",
       "      <td>414259</td>\n",
       "      <td>219587</td>\n",
       "      <td>72308</td>\n",
       "      <td>231173</td>\n",
       "      <td>193821</td>\n",
       "      <td>324731</td>\n",
       "      <td>150933</td>\n",
       "    </tr>\n",
       "  </tbody>\n",
       "</table>\n",
       "</div>"
      ],
      "text/plain": [
       "        User_ID Product_ID  Gender     Age  Occupation City_Category  \\\n",
       "count    550068     550068  550068  550068      550068        550068   \n",
       "unique     5891       3631       2       7          21             3   \n",
       "top     1001680  P00265242       M   26-35           4             B   \n",
       "freq       1026       1880  414259  219587       72308        231173   \n",
       "\n",
       "       Stay_In_Current_City_Years  Marital_Status  Product_Category  \n",
       "count                      550068          550068            550068  \n",
       "unique                          5               2                20  \n",
       "top                             1               0                 5  \n",
       "freq                       193821          324731            150933  "
      ]
     },
     "execution_count": 17,
     "metadata": {},
     "output_type": "execute_result"
    }
   ],
   "source": [
    "df.describe(include=\"object\")"
   ]
  },
  {
   "cell_type": "code",
   "execution_count": 23,
   "id": "885dfbd8",
   "metadata": {},
   "outputs": [
    {
     "data": {
      "text/html": [
       "<div>\n",
       "<style scoped>\n",
       "    .dataframe tbody tr th:only-of-type {\n",
       "        vertical-align: middle;\n",
       "    }\n",
       "\n",
       "    .dataframe tbody tr th {\n",
       "        vertical-align: top;\n",
       "    }\n",
       "\n",
       "    .dataframe thead th {\n",
       "        text-align: right;\n",
       "    }\n",
       "</style>\n",
       "<table border=\"1\" class=\"dataframe\">\n",
       "  <thead>\n",
       "    <tr style=\"text-align: right;\">\n",
       "      <th></th>\n",
       "      <th>Gender</th>\n",
       "      <th>count</th>\n",
       "      <th>mean</th>\n",
       "      <th>std</th>\n",
       "      <th>min</th>\n",
       "      <th>25%</th>\n",
       "      <th>50%</th>\n",
       "      <th>75%</th>\n",
       "      <th>max</th>\n",
       "    </tr>\n",
       "  </thead>\n",
       "  <tbody>\n",
       "    <tr>\n",
       "      <th>0</th>\n",
       "      <td>F</td>\n",
       "      <td>135809.0</td>\n",
       "      <td>8734.565765</td>\n",
       "      <td>4767.233289</td>\n",
       "      <td>12.0</td>\n",
       "      <td>5433.0</td>\n",
       "      <td>7914.0</td>\n",
       "      <td>11400.0</td>\n",
       "      <td>23959.0</td>\n",
       "    </tr>\n",
       "    <tr>\n",
       "      <th>1</th>\n",
       "      <td>M</td>\n",
       "      <td>414259.0</td>\n",
       "      <td>9437.526040</td>\n",
       "      <td>5092.186210</td>\n",
       "      <td>12.0</td>\n",
       "      <td>5863.0</td>\n",
       "      <td>8098.0</td>\n",
       "      <td>12454.0</td>\n",
       "      <td>23961.0</td>\n",
       "    </tr>\n",
       "  </tbody>\n",
       "</table>\n",
       "</div>"
      ],
      "text/plain": [
       "  Gender     count         mean          std   min     25%     50%      75%  \\\n",
       "0      F  135809.0  8734.565765  4767.233289  12.0  5433.0  7914.0  11400.0   \n",
       "1      M  414259.0  9437.526040  5092.186210  12.0  5863.0  8098.0  12454.0   \n",
       "\n",
       "       max  \n",
       "0  23959.0  \n",
       "1  23961.0  "
      ]
     },
     "execution_count": 23,
     "metadata": {},
     "output_type": "execute_result"
    }
   ],
   "source": [
    "df.groupby(\"Gender\")[\"Purchase\"].describe().reset_index()"
   ]
  },
  {
   "cell_type": "code",
   "execution_count": 24,
   "id": "01a1119c",
   "metadata": {},
   "outputs": [
    {
     "data": {
      "text/plain": [
       "User_ID                        5891\n",
       "Product_ID                     3631\n",
       "Gender                            2\n",
       "Age                               7\n",
       "Occupation                       21\n",
       "City_Category                     3\n",
       "Stay_In_Current_City_Years        5\n",
       "Marital_Status                    2\n",
       "Product_Category                 20\n",
       "Purchase                      18105\n",
       "dtype: int64"
      ]
     },
     "execution_count": 24,
     "metadata": {},
     "output_type": "execute_result"
    }
   ],
   "source": [
    "#finding unique values in columns\n",
    "df.nunique()"
   ]
  },
  {
   "cell_type": "code",
   "execution_count": 25,
   "id": "5548d8d8",
   "metadata": {},
   "outputs": [
    {
     "data": {
      "text/plain": [
       "0         False\n",
       "1         False\n",
       "2         False\n",
       "3         False\n",
       "4         False\n",
       "          ...  \n",
       "550063    False\n",
       "550064    False\n",
       "550065    False\n",
       "550066    False\n",
       "550067    False\n",
       "Length: 550068, dtype: bool"
      ]
     },
     "execution_count": 25,
     "metadata": {},
     "output_type": "execute_result"
    }
   ],
   "source": [
    "#check for duplicate values\n",
    "df.duplicated()"
   ]
  },
  {
   "cell_type": "code",
   "execution_count": 26,
   "id": "00811a81",
   "metadata": {},
   "outputs": [
    {
     "data": {
      "text/html": [
       "<div>\n",
       "<style scoped>\n",
       "    .dataframe tbody tr th:only-of-type {\n",
       "        vertical-align: middle;\n",
       "    }\n",
       "\n",
       "    .dataframe tbody tr th {\n",
       "        vertical-align: top;\n",
       "    }\n",
       "\n",
       "    .dataframe thead th {\n",
       "        text-align: right;\n",
       "    }\n",
       "</style>\n",
       "<table border=\"1\" class=\"dataframe\">\n",
       "  <thead>\n",
       "    <tr style=\"text-align: right;\">\n",
       "      <th></th>\n",
       "      <th>User_ID</th>\n",
       "      <th>Product_ID</th>\n",
       "      <th>Gender</th>\n",
       "      <th>Age</th>\n",
       "      <th>Occupation</th>\n",
       "      <th>City_Category</th>\n",
       "      <th>Stay_In_Current_City_Years</th>\n",
       "      <th>Marital_Status</th>\n",
       "      <th>Product_Category</th>\n",
       "      <th>Purchase</th>\n",
       "    </tr>\n",
       "  </thead>\n",
       "  <tbody>\n",
       "  </tbody>\n",
       "</table>\n",
       "</div>"
      ],
      "text/plain": [
       "Empty DataFrame\n",
       "Columns: [User_ID, Product_ID, Gender, Age, Occupation, City_Category, Stay_In_Current_City_Years, Marital_Status, Product_Category, Purchase]\n",
       "Index: []"
      ]
     },
     "execution_count": 26,
     "metadata": {},
     "output_type": "execute_result"
    }
   ],
   "source": [
    "df[df.duplicated()]"
   ]
  },
  {
   "cell_type": "code",
   "execution_count": 28,
   "id": "92922276",
   "metadata": {},
   "outputs": [],
   "source": [
    "#there are no duplicate values in dataset"
   ]
  },
  {
   "cell_type": "code",
   "execution_count": 29,
   "id": "7a348912",
   "metadata": {},
   "outputs": [
    {
     "data": {
      "text/html": [
       "<div>\n",
       "<style scoped>\n",
       "    .dataframe tbody tr th:only-of-type {\n",
       "        vertical-align: middle;\n",
       "    }\n",
       "\n",
       "    .dataframe tbody tr th {\n",
       "        vertical-align: top;\n",
       "    }\n",
       "\n",
       "    .dataframe thead th {\n",
       "        text-align: right;\n",
       "    }\n",
       "</style>\n",
       "<table border=\"1\" class=\"dataframe\">\n",
       "  <thead>\n",
       "    <tr style=\"text-align: right;\">\n",
       "      <th></th>\n",
       "      <th>User_ID</th>\n",
       "      <th>Product_ID</th>\n",
       "      <th>Gender</th>\n",
       "      <th>Age</th>\n",
       "      <th>Occupation</th>\n",
       "      <th>City_Category</th>\n",
       "      <th>Stay_In_Current_City_Years</th>\n",
       "      <th>Marital_Status</th>\n",
       "      <th>Product_Category</th>\n",
       "      <th>Purchase</th>\n",
       "    </tr>\n",
       "  </thead>\n",
       "  <tbody>\n",
       "    <tr>\n",
       "      <th>0</th>\n",
       "      <td>1000001</td>\n",
       "      <td>P00069042</td>\n",
       "      <td>F</td>\n",
       "      <td>0-17</td>\n",
       "      <td>10</td>\n",
       "      <td>A</td>\n",
       "      <td>2</td>\n",
       "      <td>0</td>\n",
       "      <td>3</td>\n",
       "      <td>8370</td>\n",
       "    </tr>\n",
       "    <tr>\n",
       "      <th>1</th>\n",
       "      <td>1000001</td>\n",
       "      <td>P00248942</td>\n",
       "      <td>F</td>\n",
       "      <td>0-17</td>\n",
       "      <td>10</td>\n",
       "      <td>A</td>\n",
       "      <td>2</td>\n",
       "      <td>0</td>\n",
       "      <td>1</td>\n",
       "      <td>15200</td>\n",
       "    </tr>\n",
       "    <tr>\n",
       "      <th>2</th>\n",
       "      <td>1000001</td>\n",
       "      <td>P00087842</td>\n",
       "      <td>F</td>\n",
       "      <td>0-17</td>\n",
       "      <td>10</td>\n",
       "      <td>A</td>\n",
       "      <td>2</td>\n",
       "      <td>0</td>\n",
       "      <td>12</td>\n",
       "      <td>1422</td>\n",
       "    </tr>\n",
       "    <tr>\n",
       "      <th>3</th>\n",
       "      <td>1000001</td>\n",
       "      <td>P00085442</td>\n",
       "      <td>F</td>\n",
       "      <td>0-17</td>\n",
       "      <td>10</td>\n",
       "      <td>A</td>\n",
       "      <td>2</td>\n",
       "      <td>0</td>\n",
       "      <td>12</td>\n",
       "      <td>1057</td>\n",
       "    </tr>\n",
       "    <tr>\n",
       "      <th>4</th>\n",
       "      <td>1000002</td>\n",
       "      <td>P00285442</td>\n",
       "      <td>M</td>\n",
       "      <td>55+</td>\n",
       "      <td>16</td>\n",
       "      <td>C</td>\n",
       "      <td>4+</td>\n",
       "      <td>0</td>\n",
       "      <td>8</td>\n",
       "      <td>7969</td>\n",
       "    </tr>\n",
       "  </tbody>\n",
       "</table>\n",
       "</div>"
      ],
      "text/plain": [
       "   User_ID Product_ID Gender   Age Occupation City_Category  \\\n",
       "0  1000001  P00069042      F  0-17         10             A   \n",
       "1  1000001  P00248942      F  0-17         10             A   \n",
       "2  1000001  P00087842      F  0-17         10             A   \n",
       "3  1000001  P00085442      F  0-17         10             A   \n",
       "4  1000002  P00285442      M   55+         16             C   \n",
       "\n",
       "  Stay_In_Current_City_Years Marital_Status Product_Category  Purchase  \n",
       "0                          2              0                3      8370  \n",
       "1                          2              0                1     15200  \n",
       "2                          2              0               12      1422  \n",
       "3                          2              0               12      1057  \n",
       "4                         4+              0                8      7969  "
      ]
     },
     "execution_count": 29,
     "metadata": {},
     "output_type": "execute_result"
    }
   ],
   "source": [
    "df.head()"
   ]
  },
  {
   "cell_type": "markdown",
   "id": "067ee8e9",
   "metadata": {},
   "source": [
    "# Dataset ovservation:"
   ]
  },
  {
   "cell_type": "code",
   "execution_count": null,
   "id": "5603743d",
   "metadata": {},
   "outputs": [],
   "source": [
    "1.The dataset stands devoid of any null values, ensuring data completeness.\n",
    "2.It maintains data integrity with the absence of duplicate records.\n",
    "3.Within the dataset, a diverse range of 20 distinct product types is evident.\n",
    "4.The data suggests a predominant male customer base for product transactions.\n",
    "5.Purchases are distributed among three distinct city categories: A, B, and C.\n",
    "6.The dataset predominantly includes users within the 26-34 age range.\n",
    "7.A notable trend emerges with the 5th product category, indicating it as the preferred choice among users."
   ]
  },
  {
   "cell_type": "markdown",
   "id": "92b3bdcd",
   "metadata": {},
   "source": [
    "# Non-Graphical Analysis: Value counts and unique attributes"
   ]
  },
  {
   "cell_type": "code",
   "execution_count": 30,
   "id": "489245c4",
   "metadata": {},
   "outputs": [],
   "source": [
    "#defining a function for value_count and unique values\n",
    "def Unique(x):\n",
    "  print(\"Unique_values:\",df[x].unique())\n",
    "  print(\"unique_values count:\",df[x].nunique())\n",
    "  print(\"value_count:\",df[x].value_counts())"
   ]
  },
  {
   "cell_type": "code",
   "execution_count": 31,
   "id": "d9630249",
   "metadata": {},
   "outputs": [
    {
     "name": "stdout",
     "output_type": "stream",
     "text": [
      "Unique_values: [1000001 1000002 1000003 ... 1004113 1005391 1001529]\n",
      "unique_values count: 5891\n",
      "value_count: 1001680    1026\n",
      "1004277     979\n",
      "1001941     898\n",
      "1001181     862\n",
      "1000889     823\n",
      "           ... \n",
      "1002690       7\n",
      "1002111       7\n",
      "1005810       7\n",
      "1004991       7\n",
      "1000708       6\n",
      "Name: User_ID, Length: 5891, dtype: int64\n"
     ]
    }
   ],
   "source": [
    "#User_ID\n",
    "Unique(\"User_ID\")"
   ]
  },
  {
   "cell_type": "code",
   "execution_count": 32,
   "id": "0c5e6fe0",
   "metadata": {},
   "outputs": [
    {
     "name": "stdout",
     "output_type": "stream",
     "text": [
      "Unique_values: ['P00069042' 'P00248942' 'P00087842' ... 'P00370293' 'P00371644'\n",
      " 'P00370853']\n",
      "unique_values count: 3631\n",
      "value_count: P00265242    1880\n",
      "P00025442    1615\n",
      "P00110742    1612\n",
      "P00112142    1562\n",
      "P00057642    1470\n",
      "             ... \n",
      "P00314842       1\n",
      "P00298842       1\n",
      "P00231642       1\n",
      "P00204442       1\n",
      "P00066342       1\n",
      "Name: Product_ID, Length: 3631, dtype: int64\n"
     ]
    }
   ],
   "source": [
    "#Product_ID\n",
    "Unique(\"Product_ID\")"
   ]
  },
  {
   "cell_type": "code",
   "execution_count": 33,
   "id": "fda47aeb",
   "metadata": {},
   "outputs": [
    {
     "name": "stdout",
     "output_type": "stream",
     "text": [
      "Unique_values: ['F' 'M']\n",
      "unique_values count: 2\n",
      "value_count: M    414259\n",
      "F    135809\n",
      "Name: Gender, dtype: int64\n"
     ]
    }
   ],
   "source": [
    "#Gender\n",
    "Unique(\"Gender\")"
   ]
  },
  {
   "cell_type": "code",
   "execution_count": 34,
   "id": "be621e60",
   "metadata": {},
   "outputs": [
    {
     "name": "stdout",
     "output_type": "stream",
     "text": [
      "Unique_values: ['0-17' '55+' '26-35' '46-50' '51-55' '36-45' '18-25']\n",
      "unique_values count: 7\n",
      "value_count: 26-35    219587\n",
      "36-45    110013\n",
      "18-25     99660\n",
      "46-50     45701\n",
      "51-55     38501\n",
      "55+       21504\n",
      "0-17      15102\n",
      "Name: Age, dtype: int64\n"
     ]
    }
   ],
   "source": [
    "#Age\n",
    "Unique(\"Age\")"
   ]
  },
  {
   "cell_type": "code",
   "execution_count": 35,
   "id": "9d96cdcf",
   "metadata": {},
   "outputs": [
    {
     "name": "stdout",
     "output_type": "stream",
     "text": [
      "Unique_values: [10 16 15 7 20 9 1 12 17 0 3 4 11 8 19 2 18 5 14 13 6]\n",
      "unique_values count: 21\n",
      "value_count: 4     72308\n",
      "0     69638\n",
      "7     59133\n",
      "1     47426\n",
      "17    40043\n",
      "20    33562\n",
      "12    31179\n",
      "14    27309\n",
      "2     26588\n",
      "16    25371\n",
      "6     20355\n",
      "3     17650\n",
      "10    12930\n",
      "5     12177\n",
      "15    12165\n",
      "11    11586\n",
      "19     8461\n",
      "13     7728\n",
      "18     6622\n",
      "9      6291\n",
      "8      1546\n",
      "Name: Occupation, dtype: int64\n"
     ]
    }
   ],
   "source": [
    "#Occupation\n",
    "Unique(\"Occupation\")"
   ]
  },
  {
   "cell_type": "code",
   "execution_count": 36,
   "id": "c6a3e8db",
   "metadata": {},
   "outputs": [
    {
     "name": "stdout",
     "output_type": "stream",
     "text": [
      "Unique_values: ['A' 'C' 'B']\n",
      "unique_values count: 3\n",
      "value_count: B    231173\n",
      "C    171175\n",
      "A    147720\n",
      "Name: City_Category, dtype: int64\n"
     ]
    }
   ],
   "source": [
    "#City_Category\n",
    "Unique(\"City_Category\")"
   ]
  },
  {
   "cell_type": "code",
   "execution_count": 37,
   "id": "c3f2b6b5",
   "metadata": {},
   "outputs": [
    {
     "name": "stdout",
     "output_type": "stream",
     "text": [
      "Unique_values: ['2' '4+' '3' '1' '0']\n",
      "unique_values count: 5\n",
      "value_count: 1     193821\n",
      "2     101838\n",
      "3      95285\n",
      "4+     84726\n",
      "0      74398\n",
      "Name: Stay_In_Current_City_Years, dtype: int64\n"
     ]
    }
   ],
   "source": [
    "#Stay_In_Current_City_Years\n",
    "Unique(\"Stay_In_Current_City_Years\")"
   ]
  },
  {
   "cell_type": "code",
   "execution_count": 38,
   "id": "3b8edbcd",
   "metadata": {},
   "outputs": [
    {
     "name": "stdout",
     "output_type": "stream",
     "text": [
      "Unique_values: [0 1]\n",
      "unique_values count: 2\n",
      "value_count: 0    324731\n",
      "1    225337\n",
      "Name: Marital_Status, dtype: int64\n"
     ]
    }
   ],
   "source": [
    "#Marital_Status\n",
    "Unique(\"Marital_Status\")"
   ]
  },
  {
   "cell_type": "code",
   "execution_count": 39,
   "id": "6ae429f7",
   "metadata": {},
   "outputs": [
    {
     "name": "stdout",
     "output_type": "stream",
     "text": [
      "Unique_values: [3 1 12 8 5 4 2 6 14 11 13 15 7 16 18 10 17 9 20 19]\n",
      "unique_values count: 20\n",
      "value_count: 5     150933\n",
      "1     140378\n",
      "8     113925\n",
      "11     24287\n",
      "2      23864\n",
      "6      20466\n",
      "3      20213\n",
      "4      11753\n",
      "16      9828\n",
      "15      6290\n",
      "13      5549\n",
      "10      5125\n",
      "12      3947\n",
      "7       3721\n",
      "18      3125\n",
      "20      2550\n",
      "19      1603\n",
      "14      1523\n",
      "17       578\n",
      "9        410\n",
      "Name: Product_Category, dtype: int64\n"
     ]
    }
   ],
   "source": [
    "#Product_Category\n",
    "Unique(\"Product_Category\")"
   ]
  },
  {
   "cell_type": "code",
   "execution_count": 40,
   "id": "5cdd67d3",
   "metadata": {},
   "outputs": [
    {
     "name": "stdout",
     "output_type": "stream",
     "text": [
      "Unique_values: [ 8370 15200  1422 ...   135   123   613]\n",
      "unique_values count: 18105\n",
      "value_count: 7011     191\n",
      "7193     188\n",
      "6855     187\n",
      "6891     184\n",
      "7012     183\n",
      "        ... \n",
      "23491      1\n",
      "18345      1\n",
      "3372       1\n",
      "855        1\n",
      "21489      1\n",
      "Name: Purchase, Length: 18105, dtype: int64\n"
     ]
    }
   ],
   "source": [
    "#Purchase\n",
    "Unique(\"Purchase\")"
   ]
  },
  {
   "cell_type": "markdown",
   "id": "f5cbc54b",
   "metadata": {},
   "source": [
    "# Data ovservation by Non-Graphical Analysis: Value counts and unique attributes"
   ]
  },
  {
   "cell_type": "code",
   "execution_count": null,
   "id": "95894d51",
   "metadata": {},
   "outputs": [],
   "source": [
    "1.Gender Distribution:\n",
    "\n",
    "    Male users make up approximately 75% (414,259 out of 550,068) of the dataset.\n",
    "    Female users account for around 25% (135,809 out of 550,068).\n",
    "    \n",
    "2.Age Group Distribution:\n",
    "    Users aged 26-35 represent the largest age group, constituting roughly 40% of the dataset.\n",
    "    The 0-17 age group and the 55+ age group each contribute to about 3% of the dataset.\n",
    "\n",
    "3.Occupation Distribution:\n",
    "\n",
    "    Occupations 4 and 0 together make up approximately 23% of the dataset, with 4 being the most common.\n",
    "    Occupations 8 and 5 together represent about 13% of the dataset.\n",
    "\n",
    "4.City Category Distribution:\n",
    "\n",
    "    City category B accounts for around 42% of the dataset.\n",
    "    City category C makes up approximately 31% of the dataset.\n",
    "    City category A represents about 27% of the dataset.\n",
    "\n",
    "5.Stay in Current City Distribution:\n",
    "\n",
    "    Users who have stayed in their current city for 1 year constitute nearly 35% of the dataset.\n",
    "    Approximately 19% of users have stayed for 2 years, and around 17% have stayed for 3 years.\n",
    "\n",
    "6.Marital Status Distribution:\n",
    "\n",
    "    Unmarried users make up roughly 59% of the dataset.\n",
    "    Married users account for approximately 41% of the dataset.\n",
    "\n",
    "7.Product Category Distribution:\n",
    "\n",
    "    Product category 5 comprises about 26% of the dataset, making it the most popular.\n",
    "    Categories 1, 8, and 11 each represent around 8-9% of the dataset.\n",
    "\n",
    "8.Purchase Amount Distribution:\n",
    "\n",
    "    Due to a wide range of purchase amounts, no single value represents a significant percentage of the dataset.\n",
    "    The most common purchase amount, 7,011, represents less than 0.5% of the dataset."
   ]
  },
  {
   "cell_type": "markdown",
   "id": "de0d2b29",
   "metadata": {},
   "source": [
    "# Visual Analysis:"
   ]
  },
  {
   "cell_type": "markdown",
   "id": "ea5b458e",
   "metadata": {},
   "source": [
    "# Missing Value & Outlier Detection:"
   ]
  },
  {
   "cell_type": "code",
   "execution_count": 41,
   "id": "372e3a70",
   "metadata": {},
   "outputs": [
    {
     "data": {
      "text/plain": [
       "User_ID                       0\n",
       "Product_ID                    0\n",
       "Gender                        0\n",
       "Age                           0\n",
       "Occupation                    0\n",
       "City_Category                 0\n",
       "Stay_In_Current_City_Years    0\n",
       "Marital_Status                0\n",
       "Product_Category              0\n",
       "Purchase                      0\n",
       "dtype: int64"
      ]
     },
     "execution_count": 41,
     "metadata": {},
     "output_type": "execute_result"
    }
   ],
   "source": [
    "df.isnull().sum()"
   ]
  },
  {
   "cell_type": "code",
   "execution_count": null,
   "id": "be88f76a",
   "metadata": {},
   "outputs": [],
   "source": [
    "insights:- There are no null values in dataset."
   ]
  },
  {
   "cell_type": "code",
   "execution_count": null,
   "id": "4455f617",
   "metadata": {},
   "outputs": [],
   "source": []
  },
  {
   "cell_type": "markdown",
   "id": "27e99f8c",
   "metadata": {},
   "source": [
    "# Finding outliers using Boxplot"
   ]
  },
  {
   "cell_type": "code",
   "execution_count": 42,
   "id": "1b4f4da6",
   "metadata": {},
   "outputs": [
    {
     "data": {
      "image/png": "[encoded data removed]",
      "text/plain": [
       "<Figure size 432x288 with 1 Axes>"
      ]
     },
     "metadata": {
      "needs_background": "light"
     },
     "output_type": "display_data"
    }
   ],
   "source": [
    "fig,ax=plt.subplots(figsize=(6,4))\n",
    "fig.suptitle(\"outliers\")\n",
    "\n",
    "sns.boxplot(data=df,x=\"Purchase\")\n",
    "plt.show()"
   ]
  },
  {
   "cell_type": "code",
   "execution_count": null,
   "id": "8c925557",
   "metadata": {},
   "outputs": [],
   "source": [
    "Insights: Based on the graphical representation, it is evident that Purchase has only a minor presence of outliers."
   ]
  },
  {
   "cell_type": "code",
   "execution_count": null,
   "id": "17624c21",
   "metadata": {},
   "outputs": [],
   "source": []
  },
  {
   "cell_type": "markdown",
   "id": "6fa07518",
   "metadata": {},
   "source": [
    "# Univariate Analysis:"
   ]
  },
  {
   "cell_type": "code",
   "execution_count": 43,
   "id": "84566fc4",
   "metadata": {},
   "outputs": [
    {
     "data": {
      "image/png": "[encoded data removed]",
      "text/plain": [
       "<Figure size 576x288 with 1 Axes>"
      ]
     },
     "metadata": {
      "needs_background": "light"
     },
     "output_type": "display_data"
    }
   ],
   "source": [
    "#Distributation of data for the quantative attributes\n",
    "plt.figure(figsize=(8,4))\n",
    "plt.title(\"Distributation of data for the quantative attributes\")\n",
    "sns.histplot(data=df,x=\"Purchase\",kde=True)\n",
    "plt.show()"
   ]
  },
  {
   "cell_type": "code",
   "execution_count": 44,
   "id": "42ecba26",
   "metadata": {},
   "outputs": [
    {
     "data": {
      "image/png": "[encoded data removed]",
      "text/plain": [
       "<Figure size 1008x936 with 7 Axes>"
      ]
     },
     "metadata": {
      "needs_background": "light"
     },
     "output_type": "display_data"
    }
   ],
   "source": [
    "#Distributation of data for the qualitative attribute\n",
    "fig,ax=plt.subplots(4,2,figsize=(14,13))\n",
    "fig.suptitle(\"Distributation of data for the qualitative attributes\")\n",
    "\n",
    "plt.subplot(4,2,1)\n",
    "sns.countplot(data=df,x=\"Gender\",)\n",
    "\n",
    "plt.subplot(4,2,2)\n",
    "sns.countplot(data=df,x=\"Age\")\n",
    "\n",
    "plt.subplot(4,2,(3,4))\n",
    "sns.countplot(data=df,x=\"Occupation\")\n",
    "\n",
    "plt.subplot(4,2,5)\n",
    "sns.countplot(data=df,x=\"City_Category\")\n",
    "\n",
    "plt.subplot(4,2,6)\n",
    "sns.countplot(data=df,x=\"Stay_In_Current_City_Years\")\n",
    "\n",
    "plt.subplot(4,2,7)\n",
    "sns.countplot(data=df,x=\"Marital_Status\")\n",
    "\n",
    "plt.subplot(4,2,8)\n",
    "sns.countplot(data=df,x=\"Product_Category\")\n",
    "plt.show()\n"
   ]
  },
  {
   "cell_type": "code",
   "execution_count": null,
   "id": "3f97505f",
   "metadata": {},
   "outputs": [],
   "source": []
  },
  {
   "cell_type": "code",
   "execution_count": null,
   "id": "5f2c1a76",
   "metadata": {},
   "outputs": [],
   "source": [
    "Insights:\n",
    "\n",
    "Gender Distribution:\n",
    "    The data suggests a significant majority of male users, indicating a potential gender-based trend in shopping behavior.\n",
    "\n",
    "Age Group Preferences:\n",
    "    Users aged between 26 and 35 are the most prominent age group in the dataset, with a focus on users aged 18 to 45.\n",
    "\n",
    "Occupation Trends:\n",
    "    Occupations labeled as 0, 4, and 7 appear frequently among the 20 occupation types.\n",
    "\n",
    "City Residence:\n",
    "    City category labeled as 'B' has the highest number of users, while categories 'A' and 'C' show a more evenly distributed user population.\n",
    "\n",
    "Length of Residence:\n",
    "    A majority of users have resided in their current city for more than one year, indicating stability in their place of residence.\n",
    "\n",
    "Marital Status:\n",
    "    Unmarried users outnumber married users in the dataset.\n",
    "\n",
    "Product Category Preferences:\n",
    "    Users predominantly purchase products from categories 5, 1, and 8.\n",
    "    "
   ]
  },
  {
   "cell_type": "code",
   "execution_count": 45,
   "id": "64d23f7f",
   "metadata": {},
   "outputs": [
    {
     "data": {
      "image/png": "[encoded data removed]",
      "text/plain": [
       "<Figure size 720x792 with 5 Axes>"
      ]
     },
     "metadata": {},
     "output_type": "display_data"
    }
   ],
   "source": [
    "fig,ax=plt.subplots(3,2,figsize=(10,11))\n",
    "fig.suptitle(\"Distributation of data for the qualitative attributes in percentage\")\n",
    "\n",
    "plt.subplot(3,2,1)\n",
    "data_Gender=df['Gender'].value_counts(normalize=True)*100\n",
    "plt.pie(data_Gender, labels=data_Gender.index, autopct='%d%%', startangle=90)\n",
    "plt.title(\"Gender distribution\")\n",
    "\n",
    "plt.subplot(3,2,2)\n",
    "data_Age=df['Age'].value_counts(normalize=True)*100\n",
    "plt.pie(data_Age, labels=data_Age.index, autopct='%d%%',startangle=0)\n",
    "plt.title(\"Age distribution\")\n",
    "\n",
    "plt.subplot(3,2,(3,4))\n",
    "data_City_Category=df['City_Category'].value_counts(normalize=True)*100\n",
    "plt.pie(data_City_Category, labels=data_City_Category.index, autopct='%d%%', startangle=90)\n",
    "plt.title(\"City_category distribution\")\n",
    "\n",
    "plt.subplot(3,2,5)\n",
    "data_Stay_In_Current_City_Years=df['Stay_In_Current_City_Years'].value_counts(normalize=True)*100\n",
    "plt.pie(data_Stay_In_Current_City_Years, labels=data_Stay_In_Current_City_Years.index, autopct='%d%%', startangle=0)\n",
    "plt.title(\"Stay_In_Current_City_Years distribution\")\n",
    "\n",
    "plt.subplot(3,2,6)\n",
    "data_Marital_Status=df[\"Marital_Status\"].value_counts(normalize=True)*100\n",
    "plt.pie(data_Marital_Status, labels=data_Marital_Status.index, autopct='%d%%', startangle=0)\n",
    "plt.title(\"Marital_Status\")\n",
    "\n",
    "plt.show()\n",
    "     "
   ]
  },
  {
   "cell_type": "code",
   "execution_count": null,
   "id": "23678ed4",
   "metadata": {},
   "outputs": [],
   "source": []
  },
  {
   "cell_type": "markdown",
   "id": "d1e9f045",
   "metadata": {},
   "source": [
    "# Bivariate Analysis"
   ]
  },
  {
   "cell_type": "code",
   "execution_count": 46,
   "id": "24519a79",
   "metadata": {},
   "outputs": [
    {
     "data": {
      "text/html": [
       "<div>\n",
       "<style scoped>\n",
       "    .dataframe tbody tr th:only-of-type {\n",
       "        vertical-align: middle;\n",
       "    }\n",
       "\n",
       "    .dataframe tbody tr th {\n",
       "        vertical-align: top;\n",
       "    }\n",
       "\n",
       "    .dataframe thead th {\n",
       "        text-align: right;\n",
       "    }\n",
       "</style>\n",
       "<table border=\"1\" class=\"dataframe\">\n",
       "  <thead>\n",
       "    <tr style=\"text-align: right;\">\n",
       "      <th></th>\n",
       "      <th>User_ID</th>\n",
       "      <th>Product_ID</th>\n",
       "      <th>Gender</th>\n",
       "      <th>Age</th>\n",
       "      <th>Occupation</th>\n",
       "      <th>City_Category</th>\n",
       "      <th>Stay_In_Current_City_Years</th>\n",
       "      <th>Marital_Status</th>\n",
       "      <th>Product_Category</th>\n",
       "      <th>Purchase</th>\n",
       "    </tr>\n",
       "  </thead>\n",
       "  <tbody>\n",
       "    <tr>\n",
       "      <th>0</th>\n",
       "      <td>1000001</td>\n",
       "      <td>P00069042</td>\n",
       "      <td>F</td>\n",
       "      <td>0-17</td>\n",
       "      <td>10</td>\n",
       "      <td>A</td>\n",
       "      <td>2</td>\n",
       "      <td>0</td>\n",
       "      <td>3</td>\n",
       "      <td>8370</td>\n",
       "    </tr>\n",
       "  </tbody>\n",
       "</table>\n",
       "</div>"
      ],
      "text/plain": [
       "   User_ID Product_ID Gender   Age Occupation City_Category  \\\n",
       "0  1000001  P00069042      F  0-17         10             A   \n",
       "\n",
       "  Stay_In_Current_City_Years Marital_Status Product_Category  Purchase  \n",
       "0                          2              0                3      8370  "
      ]
     },
     "execution_count": 46,
     "metadata": {},
     "output_type": "execute_result"
    }
   ],
   "source": [
    "df.head(1)"
   ]
  },
  {
   "cell_type": "code",
   "execution_count": 47,
   "id": "2453b3ad",
   "metadata": {},
   "outputs": [
    {
     "data": {
      "image/png": "[encoded data removed]",
      "text/plain": [
       "<Figure size 864x1080 with 7 Axes>"
      ]
     },
     "metadata": {
      "needs_background": "light"
     },
     "output_type": "display_data"
    }
   ],
   "source": [
    "#Purchase distribution on all qualitative attributes(gender,Age,Occuption,City_Category,Stay_in_current_city_years,Marital_status,Product_Category)\n",
    "fig,ax=plt.subplots(4,2,figsize=(12,15))\n",
    "fig.suptitle(\"Product_Category distribution on all qualitative attributes\")\n",
    "\n",
    "plt.subplot(4,2,1)\n",
    "sns.boxplot(data=df,x=\"Gender\",y=\"Purchase\")\n",
    "\n",
    "plt.subplot(4,2,2)\n",
    "sns.boxplot(data=df,x=\"Age\",y=\"Purchase\")\n",
    "\n",
    "plt.subplot(4,2,(3,4))\n",
    "sns.boxplot(data=df,x=\"Occupation\",y=\"Purchase\")\n",
    "\n",
    "plt.subplot(4,2,5)\n",
    "sns.boxplot(data=df,x=\"City_Category\",y=\"Purchase\")\n",
    "\n",
    "plt.subplot(4,2,6)\n",
    "sns.boxplot(data=df,x=\"Stay_In_Current_City_Years\",y=\"Purchase\")\n",
    "\n",
    "plt.subplot(4,2,7)\n",
    "sns.boxplot(data=df,x=\"Marital_Status\",y=\"Purchase\")\n",
    "\n",
    "plt.subplot(4,2,8)\n",
    "sns.boxplot(data=df,x=\"Product_Category\",y=\"Purchase\")\n",
    "\n",
    "plt.show()\n"
   ]
  },
  {
   "cell_type": "code",
   "execution_count": null,
   "id": "2e452875",
   "metadata": {},
   "outputs": [],
   "source": []
  },
  {
   "cell_type": "code",
   "execution_count": 48,
   "id": "13ef8c7c",
   "metadata": {},
   "outputs": [
    {
     "data": {
      "text/plain": [
       "<AxesSubplot:xlabel='Marital_Status', ylabel='count'>"
      ]
     },
     "execution_count": 48,
     "metadata": {},
     "output_type": "execute_result"
    },
    {
     "data": {
      "image/png": "[encoded data removed]",
      "text/plain": [
       "<Figure size 720x288 with 2 Axes>"
      ]
     },
     "metadata": {
      "needs_background": "light"
     },
     "output_type": "display_data"
    }
   ],
   "source": [
    "fig,ax=plt.subplots(1,2,figsize=(10,4))\n",
    "fig.suptitle(\"Gender distribution on age and marital_status\")\n",
    "plt.subplot(1,2,1)\n",
    "sns.countplot(data=df,x=\"Age\",hue=\"Gender\")\n",
    "plt.subplot(1,2,2)\n",
    "sns.countplot(data=df,x=\"Marital_Status\",hue=\"Gender\")\n"
   ]
  },
  {
   "cell_type": "code",
   "execution_count": null,
   "id": "5d38bda1",
   "metadata": {},
   "outputs": [],
   "source": []
  },
  {
   "cell_type": "code",
   "execution_count": 49,
   "id": "f2c0210d",
   "metadata": {},
   "outputs": [],
   "source": [
    "data1=df.drop([\"User_ID\",\"Product_ID\"],axis=1)"
   ]
  },
  {
   "cell_type": "code",
   "execution_count": 50,
   "id": "ea723643",
   "metadata": {},
   "outputs": [
    {
     "data": {
      "text/html": [
       "<div>\n",
       "<style scoped>\n",
       "    .dataframe tbody tr th:only-of-type {\n",
       "        vertical-align: middle;\n",
       "    }\n",
       "\n",
       "    .dataframe tbody tr th {\n",
       "        vertical-align: top;\n",
       "    }\n",
       "\n",
       "    .dataframe thead th {\n",
       "        text-align: right;\n",
       "    }\n",
       "</style>\n",
       "<table border=\"1\" class=\"dataframe\">\n",
       "  <thead>\n",
       "    <tr style=\"text-align: right;\">\n",
       "      <th></th>\n",
       "      <th>Gender</th>\n",
       "      <th>Age</th>\n",
       "      <th>Occupation</th>\n",
       "      <th>City_Category</th>\n",
       "      <th>Stay_In_Current_City_Years</th>\n",
       "      <th>Marital_Status</th>\n",
       "      <th>Product_Category</th>\n",
       "      <th>Purchase</th>\n",
       "    </tr>\n",
       "  </thead>\n",
       "  <tbody>\n",
       "    <tr>\n",
       "      <th>0</th>\n",
       "      <td>F</td>\n",
       "      <td>0-17</td>\n",
       "      <td>10</td>\n",
       "      <td>A</td>\n",
       "      <td>2</td>\n",
       "      <td>0</td>\n",
       "      <td>3</td>\n",
       "      <td>8370</td>\n",
       "    </tr>\n",
       "    <tr>\n",
       "      <th>1</th>\n",
       "      <td>F</td>\n",
       "      <td>0-17</td>\n",
       "      <td>10</td>\n",
       "      <td>A</td>\n",
       "      <td>2</td>\n",
       "      <td>0</td>\n",
       "      <td>1</td>\n",
       "      <td>15200</td>\n",
       "    </tr>\n",
       "    <tr>\n",
       "      <th>2</th>\n",
       "      <td>F</td>\n",
       "      <td>0-17</td>\n",
       "      <td>10</td>\n",
       "      <td>A</td>\n",
       "      <td>2</td>\n",
       "      <td>0</td>\n",
       "      <td>12</td>\n",
       "      <td>1422</td>\n",
       "    </tr>\n",
       "    <tr>\n",
       "      <th>3</th>\n",
       "      <td>F</td>\n",
       "      <td>0-17</td>\n",
       "      <td>10</td>\n",
       "      <td>A</td>\n",
       "      <td>2</td>\n",
       "      <td>0</td>\n",
       "      <td>12</td>\n",
       "      <td>1057</td>\n",
       "    </tr>\n",
       "    <tr>\n",
       "      <th>4</th>\n",
       "      <td>M</td>\n",
       "      <td>55+</td>\n",
       "      <td>16</td>\n",
       "      <td>C</td>\n",
       "      <td>4+</td>\n",
       "      <td>0</td>\n",
       "      <td>8</td>\n",
       "      <td>7969</td>\n",
       "    </tr>\n",
       "  </tbody>\n",
       "</table>\n",
       "</div>"
      ],
      "text/plain": [
       "  Gender   Age Occupation City_Category Stay_In_Current_City_Years  \\\n",
       "0      F  0-17         10             A                          2   \n",
       "1      F  0-17         10             A                          2   \n",
       "2      F  0-17         10             A                          2   \n",
       "3      F  0-17         10             A                          2   \n",
       "4      M   55+         16             C                         4+   \n",
       "\n",
       "  Marital_Status Product_Category  Purchase  \n",
       "0              0                3      8370  \n",
       "1              0                1     15200  \n",
       "2              0               12      1422  \n",
       "3              0               12      1057  \n",
       "4              0                8      7969  "
      ]
     },
     "execution_count": 50,
     "metadata": {},
     "output_type": "execute_result"
    }
   ],
   "source": [
    "data1.head()"
   ]
  },
  {
   "cell_type": "code",
   "execution_count": 51,
   "id": "ec9f0c27",
   "metadata": {},
   "outputs": [
    {
     "data": {
      "text/html": [
       "<div>\n",
       "<style scoped>\n",
       "    .dataframe tbody tr th:only-of-type {\n",
       "        vertical-align: middle;\n",
       "    }\n",
       "\n",
       "    .dataframe tbody tr th {\n",
       "        vertical-align: top;\n",
       "    }\n",
       "\n",
       "    .dataframe thead th {\n",
       "        text-align: right;\n",
       "    }\n",
       "</style>\n",
       "<table border=\"1\" class=\"dataframe\">\n",
       "  <thead>\n",
       "    <tr style=\"text-align: right;\">\n",
       "      <th></th>\n",
       "      <th>Gender</th>\n",
       "      <th>Age</th>\n",
       "      <th>Occupation</th>\n",
       "      <th>City_Category</th>\n",
       "      <th>Stay_In_Current_City_Years</th>\n",
       "      <th>Marital_Status</th>\n",
       "      <th>Product_Category</th>\n",
       "      <th>Purchase</th>\n",
       "    </tr>\n",
       "  </thead>\n",
       "  <tbody>\n",
       "    <tr>\n",
       "      <th>119343</th>\n",
       "      <td>M</td>\n",
       "      <td>55+</td>\n",
       "      <td>17</td>\n",
       "      <td>A</td>\n",
       "      <td>4+</td>\n",
       "      <td>0</td>\n",
       "      <td>13</td>\n",
       "      <td>768</td>\n",
       "    </tr>\n",
       "    <tr>\n",
       "      <th>438828</th>\n",
       "      <td>F</td>\n",
       "      <td>18-25</td>\n",
       "      <td>4</td>\n",
       "      <td>C</td>\n",
       "      <td>2</td>\n",
       "      <td>0</td>\n",
       "      <td>8</td>\n",
       "      <td>8089</td>\n",
       "    </tr>\n",
       "    <tr>\n",
       "      <th>443758</th>\n",
       "      <td>F</td>\n",
       "      <td>36-45</td>\n",
       "      <td>3</td>\n",
       "      <td>B</td>\n",
       "      <td>2</td>\n",
       "      <td>1</td>\n",
       "      <td>8</td>\n",
       "      <td>6100</td>\n",
       "    </tr>\n",
       "    <tr>\n",
       "      <th>204006</th>\n",
       "      <td>M</td>\n",
       "      <td>18-25</td>\n",
       "      <td>4</td>\n",
       "      <td>A</td>\n",
       "      <td>1</td>\n",
       "      <td>1</td>\n",
       "      <td>5</td>\n",
       "      <td>7162</td>\n",
       "    </tr>\n",
       "    <tr>\n",
       "      <th>230614</th>\n",
       "      <td>M</td>\n",
       "      <td>36-45</td>\n",
       "      <td>7</td>\n",
       "      <td>C</td>\n",
       "      <td>2</td>\n",
       "      <td>0</td>\n",
       "      <td>2</td>\n",
       "      <td>16394</td>\n",
       "    </tr>\n",
       "    <tr>\n",
       "      <th>...</th>\n",
       "      <td>...</td>\n",
       "      <td>...</td>\n",
       "      <td>...</td>\n",
       "      <td>...</td>\n",
       "      <td>...</td>\n",
       "      <td>...</td>\n",
       "      <td>...</td>\n",
       "      <td>...</td>\n",
       "    </tr>\n",
       "    <tr>\n",
       "      <th>163846</th>\n",
       "      <td>M</td>\n",
       "      <td>26-35</td>\n",
       "      <td>14</td>\n",
       "      <td>B</td>\n",
       "      <td>2</td>\n",
       "      <td>1</td>\n",
       "      <td>3</td>\n",
       "      <td>10862</td>\n",
       "    </tr>\n",
       "    <tr>\n",
       "      <th>313823</th>\n",
       "      <td>M</td>\n",
       "      <td>18-25</td>\n",
       "      <td>4</td>\n",
       "      <td>A</td>\n",
       "      <td>0</td>\n",
       "      <td>0</td>\n",
       "      <td>1</td>\n",
       "      <td>11749</td>\n",
       "    </tr>\n",
       "    <tr>\n",
       "      <th>225797</th>\n",
       "      <td>F</td>\n",
       "      <td>26-35</td>\n",
       "      <td>2</td>\n",
       "      <td>A</td>\n",
       "      <td>4+</td>\n",
       "      <td>1</td>\n",
       "      <td>6</td>\n",
       "      <td>8252</td>\n",
       "    </tr>\n",
       "    <tr>\n",
       "      <th>533707</th>\n",
       "      <td>M</td>\n",
       "      <td>26-35</td>\n",
       "      <td>0</td>\n",
       "      <td>B</td>\n",
       "      <td>3</td>\n",
       "      <td>0</td>\n",
       "      <td>1</td>\n",
       "      <td>11420</td>\n",
       "    </tr>\n",
       "    <tr>\n",
       "      <th>140242</th>\n",
       "      <td>M</td>\n",
       "      <td>26-35</td>\n",
       "      <td>0</td>\n",
       "      <td>A</td>\n",
       "      <td>2</td>\n",
       "      <td>0</td>\n",
       "      <td>3</td>\n",
       "      <td>13206</td>\n",
       "    </tr>\n",
       "  </tbody>\n",
       "</table>\n",
       "<p>300 rows × 8 columns</p>\n",
       "</div>"
      ],
      "text/plain": [
       "       Gender    Age Occupation City_Category Stay_In_Current_City_Years  \\\n",
       "119343      M    55+         17             A                         4+   \n",
       "438828      F  18-25          4             C                          2   \n",
       "443758      F  36-45          3             B                          2   \n",
       "204006      M  18-25          4             A                          1   \n",
       "230614      M  36-45          7             C                          2   \n",
       "...       ...    ...        ...           ...                        ...   \n",
       "163846      M  26-35         14             B                          2   \n",
       "313823      M  18-25          4             A                          0   \n",
       "225797      F  26-35          2             A                         4+   \n",
       "533707      M  26-35          0             B                          3   \n",
       "140242      M  26-35          0             A                          2   \n",
       "\n",
       "       Marital_Status Product_Category  Purchase  \n",
       "119343              0               13       768  \n",
       "438828              0                8      8089  \n",
       "443758              1                8      6100  \n",
       "204006              1                5      7162  \n",
       "230614              0                2     16394  \n",
       "...               ...              ...       ...  \n",
       "163846              1                3     10862  \n",
       "313823              0                1     11749  \n",
       "225797              1                6      8252  \n",
       "533707              0                1     11420  \n",
       "140242              0                3     13206  \n",
       "\n",
       "[300 rows x 8 columns]"
      ]
     },
     "execution_count": 51,
     "metadata": {},
     "output_type": "execute_result"
    }
   ],
   "source": [
    "sample1=data1.sample(n=300)\n",
    "sample1"
   ]
  },
  {
   "cell_type": "code",
   "execution_count": 52,
   "id": "c8aa4907",
   "metadata": {},
   "outputs": [
    {
     "data": {
      "image/png": "[encoded data removed]",
      "text/plain": [
       "<Figure size 764.875x720 with 20 Axes>"
      ]
     },
     "metadata": {
      "needs_background": "light"
     },
     "output_type": "display_data"
    }
   ],
   "source": [
    "sns.pairplot(data=sample1,hue=\"Gender\")\n",
    "plt.show()"
   ]
  },
  {
   "cell_type": "code",
   "execution_count": null,
   "id": "1ccf3537",
   "metadata": {},
   "outputs": [],
   "source": []
  },
  {
   "cell_type": "markdown",
   "id": "a9655a02",
   "metadata": {},
   "source": [
    "# Answering questions:\n",
    "\n",
    "1.Are women spending more money per transaction than men? Why or Why not?\n",
    "\n",
    "2.Confidence intervals and distribution of the mean of the expenses by female and male customers.\n",
    "\n",
    "3.Are confidence intervals of average male and female spending overlapping? How can Walmart leverage this conclusion to make changes or improvements?\n",
    "\n",
    "4.Results when the same activity is performed for Married vs Unmarried.\n",
    "\n",
    "5.Results when the same activity is performed for Age."
   ]
  },
  {
   "cell_type": "code",
   "execution_count": 53,
   "id": "38b651d9",
   "metadata": {},
   "outputs": [
    {
     "data": {
      "text/html": [
       "<div>\n",
       "<style scoped>\n",
       "    .dataframe tbody tr th:only-of-type {\n",
       "        vertical-align: middle;\n",
       "    }\n",
       "\n",
       "    .dataframe tbody tr th {\n",
       "        vertical-align: top;\n",
       "    }\n",
       "\n",
       "    .dataframe thead th {\n",
       "        text-align: right;\n",
       "    }\n",
       "</style>\n",
       "<table border=\"1\" class=\"dataframe\">\n",
       "  <thead>\n",
       "    <tr style=\"text-align: right;\">\n",
       "      <th></th>\n",
       "      <th>User_ID</th>\n",
       "      <th>Product_ID</th>\n",
       "      <th>Gender</th>\n",
       "      <th>Age</th>\n",
       "      <th>Occupation</th>\n",
       "      <th>City_Category</th>\n",
       "      <th>Stay_In_Current_City_Years</th>\n",
       "      <th>Marital_Status</th>\n",
       "      <th>Product_Category</th>\n",
       "      <th>Purchase</th>\n",
       "    </tr>\n",
       "  </thead>\n",
       "  <tbody>\n",
       "    <tr>\n",
       "      <th>0</th>\n",
       "      <td>1000001</td>\n",
       "      <td>P00069042</td>\n",
       "      <td>F</td>\n",
       "      <td>0-17</td>\n",
       "      <td>10</td>\n",
       "      <td>A</td>\n",
       "      <td>2</td>\n",
       "      <td>0</td>\n",
       "      <td>3</td>\n",
       "      <td>8370</td>\n",
       "    </tr>\n",
       "    <tr>\n",
       "      <th>1</th>\n",
       "      <td>1000001</td>\n",
       "      <td>P00248942</td>\n",
       "      <td>F</td>\n",
       "      <td>0-17</td>\n",
       "      <td>10</td>\n",
       "      <td>A</td>\n",
       "      <td>2</td>\n",
       "      <td>0</td>\n",
       "      <td>1</td>\n",
       "      <td>15200</td>\n",
       "    </tr>\n",
       "    <tr>\n",
       "      <th>2</th>\n",
       "      <td>1000001</td>\n",
       "      <td>P00087842</td>\n",
       "      <td>F</td>\n",
       "      <td>0-17</td>\n",
       "      <td>10</td>\n",
       "      <td>A</td>\n",
       "      <td>2</td>\n",
       "      <td>0</td>\n",
       "      <td>12</td>\n",
       "      <td>1422</td>\n",
       "    </tr>\n",
       "    <tr>\n",
       "      <th>3</th>\n",
       "      <td>1000001</td>\n",
       "      <td>P00085442</td>\n",
       "      <td>F</td>\n",
       "      <td>0-17</td>\n",
       "      <td>10</td>\n",
       "      <td>A</td>\n",
       "      <td>2</td>\n",
       "      <td>0</td>\n",
       "      <td>12</td>\n",
       "      <td>1057</td>\n",
       "    </tr>\n",
       "    <tr>\n",
       "      <th>4</th>\n",
       "      <td>1000002</td>\n",
       "      <td>P00285442</td>\n",
       "      <td>M</td>\n",
       "      <td>55+</td>\n",
       "      <td>16</td>\n",
       "      <td>C</td>\n",
       "      <td>4+</td>\n",
       "      <td>0</td>\n",
       "      <td>8</td>\n",
       "      <td>7969</td>\n",
       "    </tr>\n",
       "  </tbody>\n",
       "</table>\n",
       "</div>"
      ],
      "text/plain": [
       "   User_ID Product_ID Gender   Age Occupation City_Category  \\\n",
       "0  1000001  P00069042      F  0-17         10             A   \n",
       "1  1000001  P00248942      F  0-17         10             A   \n",
       "2  1000001  P00087842      F  0-17         10             A   \n",
       "3  1000001  P00085442      F  0-17         10             A   \n",
       "4  1000002  P00285442      M   55+         16             C   \n",
       "\n",
       "  Stay_In_Current_City_Years Marital_Status Product_Category  Purchase  \n",
       "0                          2              0                3      8370  \n",
       "1                          2              0                1     15200  \n",
       "2                          2              0               12      1422  \n",
       "3                          2              0               12      1057  \n",
       "4                         4+              0                8      7969  "
      ]
     },
     "execution_count": 53,
     "metadata": {},
     "output_type": "execute_result"
    }
   ],
   "source": [
    "df.head()"
   ]
  },
  {
   "cell_type": "markdown",
   "id": "cb27147f",
   "metadata": {},
   "source": [
    "# 1.Are women spending more money per transaction than men? Why or Why not?"
   ]
  },
  {
   "cell_type": "code",
   "execution_count": 55,
   "id": "d9000035",
   "metadata": {},
   "outputs": [
    {
     "data": {
      "text/plain": [
       "Gender\n",
       "F    8734.565765\n",
       "M    9437.526040\n",
       "Name: Purchase, dtype: float64"
      ]
     },
     "execution_count": 55,
     "metadata": {},
     "output_type": "execute_result"
    }
   ],
   "source": [
    "#.Are women spending more money per transaction than men?\n",
    "df.groupby(\"Gender\")[\"Purchase\"].mean()"
   ]
  },
  {
   "cell_type": "code",
   "execution_count": null,
   "id": "f18a0533",
   "metadata": {},
   "outputs": [],
   "source": [
    "Compare the average purchase amounts:\n",
    "\n",
    "Women (F) spend an average of 8,734.57 per transaction.\n",
    "\n",
    "Men (M) spend an average of 9,437.53 per transaction.\n",
    "\n",
    "No, women are not spending more money per transaction than men."
   ]
  },
  {
   "cell_type": "markdown",
   "id": "d68d1ff2",
   "metadata": {},
   "source": [
    " #### Analyzing the reasons why females are spending less money per transaction than men."
   ]
  },
  {
   "cell_type": "code",
   "execution_count": 56,
   "id": "d8dd8a3e",
   "metadata": {},
   "outputs": [
    {
     "data": {
      "text/plain": [
       "M    414259\n",
       "F    135809\n",
       "Name: Gender, dtype: int64"
      ]
     },
     "execution_count": 56,
     "metadata": {},
     "output_type": "execute_result"
    }
   ],
   "source": [
    "df[\"Gender\"].value_counts()"
   ]
  },
  {
   "cell_type": "code",
   "execution_count": 57,
   "id": "e33621b5",
   "metadata": {},
   "outputs": [
    {
     "data": {
      "text/plain": [
       "Occupation  Gender\n",
       "0           M         51526\n",
       "            F         18112\n",
       "1           M         29442\n",
       "            F         17984\n",
       "2           M         17959\n",
       "            F          8629\n",
       "3           M          9731\n",
       "            F          7919\n",
       "4           M         54472\n",
       "            F         17836\n",
       "5           M          9957\n",
       "            F          2220\n",
       "6           M         12195\n",
       "            F          8160\n",
       "7           M         49105\n",
       "            F         10028\n",
       "8           M          1185\n",
       "            F           361\n",
       "9           F          5843\n",
       "            M           448\n",
       "10          M          8927\n",
       "            F          4003\n",
       "11          M         10086\n",
       "            F          1500\n",
       "12          M         27710\n",
       "            F          3469\n",
       "13          M          6230\n",
       "            F          1498\n",
       "14          M         20546\n",
       "            F          6763\n",
       "15          M          9775\n",
       "            F          2390\n",
       "16          M         21264\n",
       "            F          4107\n",
       "17          M         36114\n",
       "            F          3929\n",
       "18          M          6392\n",
       "            F           230\n",
       "19          M          6444\n",
       "            F          2017\n",
       "20          M         24751\n",
       "            F          8811\n",
       "Name: Gender, dtype: int64"
      ]
     },
     "execution_count": 57,
     "metadata": {},
     "output_type": "execute_result"
    }
   ],
   "source": [
    "df.groupby(\"Occupation\")[\"Gender\"].value_counts()"
   ]
  },
  {
   "cell_type": "code",
   "execution_count": 58,
   "id": "f8a896fc",
   "metadata": {},
   "outputs": [
    {
     "data": {
      "text/plain": [
       "Product_Category  Gender\n",
       "1                 M         115547\n",
       "                  F          24831\n",
       "2                 M          18206\n",
       "                  F           5658\n",
       "3                 M          14207\n",
       "                  F           6006\n",
       "4                 M           8114\n",
       "                  F           3639\n",
       "5                 M         108972\n",
       "                  F          41961\n",
       "6                 M          15907\n",
       "                  F           4559\n",
       "7                 M           2778\n",
       "                  F            943\n",
       "8                 M          80367\n",
       "                  F          33558\n",
       "9                 M            340\n",
       "                  F             70\n",
       "10                M           3963\n",
       "                  F           1162\n",
       "11                M          19548\n",
       "                  F           4739\n",
       "12                M           2415\n",
       "                  F           1532\n",
       "13                M           4087\n",
       "                  F           1462\n",
       "14                M            900\n",
       "                  F            623\n",
       "15                M           5244\n",
       "                  F           1046\n",
       "16                M           7426\n",
       "                  F           2402\n",
       "17                M            516\n",
       "                  F             62\n",
       "18                M           2743\n",
       "                  F            382\n",
       "19                M           1152\n",
       "                  F            451\n",
       "20                M           1827\n",
       "                  F            723\n",
       "Name: Gender, dtype: int64"
      ]
     },
     "execution_count": 58,
     "metadata": {},
     "output_type": "execute_result"
    }
   ],
   "source": [
    "df.groupby(\"Product_Category\")[\"Gender\"].value_counts()"
   ]
  },
  {
   "cell_type": "code",
   "execution_count": null,
   "id": "1e8974dd",
   "metadata": {},
   "outputs": [],
   "source": [
    "The key reasons why females are spending less money per transaction than men in the provided dataset:-\n",
    "\n",
    "1.Gender Distribution: There are significantly more male customers (414,259) than female customers (135,809) in the dataset. \n",
    "This difference in sample size can influence the average spending per transaction, as larger sample sizes tend to have \n",
    "more stable and higher averages.\n",
    "\n",
    "2.Occupation Distribution: The dataset shows that the gender distribution varies across different occupations. \n",
    "Some occupations have a higher representation of females, while others have more males. \n",
    "These variations in occupation choices can affect the overall spending patterns.\n",
    "\n",
    "3.Product Category Preferences: In most product categories, male customers make more purchases than female customers, \n",
    "resulting in higher counts for males. This suggests that males might be buying more expensive products or spending more \n",
    "in certain product categories.\n",
    "\n",
    "4.Income Disparities: \n",
    "Income disparities between genders, which are not directly reflected in the dataset, can influence spending behavior. \n",
    "If males, on average, have higher incomes, they may be more willing to spend more per transaction.\n",
    "\n",
    "5.Sample Size Impact: The difference in the number of males and females in the dataset can impact the overall average \n",
    "spending calculation. With a larger number of males, even small differences in spending can lead to variations in the average.\n"
   ]
  },
  {
   "cell_type": "code",
   "execution_count": null,
   "id": "0fe86be9",
   "metadata": {},
   "outputs": [],
   "source": []
  },
  {
   "cell_type": "markdown",
   "id": "804982f2",
   "metadata": {},
   "source": [
    "# 2.Confidence intervals and distribution of the mean of the expenses by female and male customers."
   ]
  },
  {
   "cell_type": "code",
   "execution_count": 59,
   "id": "99b504f6",
   "metadata": {},
   "outputs": [
    {
     "data": {
      "text/html": [
       "<div>\n",
       "<style scoped>\n",
       "    .dataframe tbody tr th:only-of-type {\n",
       "        vertical-align: middle;\n",
       "    }\n",
       "\n",
       "    .dataframe tbody tr th {\n",
       "        vertical-align: top;\n",
       "    }\n",
       "\n",
       "    .dataframe thead th {\n",
       "        text-align: right;\n",
       "    }\n",
       "</style>\n",
       "<table border=\"1\" class=\"dataframe\">\n",
       "  <thead>\n",
       "    <tr style=\"text-align: right;\">\n",
       "      <th></th>\n",
       "      <th>User_ID</th>\n",
       "      <th>Product_ID</th>\n",
       "      <th>Gender</th>\n",
       "      <th>Age</th>\n",
       "      <th>Occupation</th>\n",
       "      <th>City_Category</th>\n",
       "      <th>Stay_In_Current_City_Years</th>\n",
       "      <th>Marital_Status</th>\n",
       "      <th>Product_Category</th>\n",
       "      <th>Purchase</th>\n",
       "    </tr>\n",
       "  </thead>\n",
       "  <tbody>\n",
       "    <tr>\n",
       "      <th>0</th>\n",
       "      <td>1000001</td>\n",
       "      <td>P00069042</td>\n",
       "      <td>F</td>\n",
       "      <td>0-17</td>\n",
       "      <td>10</td>\n",
       "      <td>A</td>\n",
       "      <td>2</td>\n",
       "      <td>0</td>\n",
       "      <td>3</td>\n",
       "      <td>8370</td>\n",
       "    </tr>\n",
       "    <tr>\n",
       "      <th>1</th>\n",
       "      <td>1000001</td>\n",
       "      <td>P00248942</td>\n",
       "      <td>F</td>\n",
       "      <td>0-17</td>\n",
       "      <td>10</td>\n",
       "      <td>A</td>\n",
       "      <td>2</td>\n",
       "      <td>0</td>\n",
       "      <td>1</td>\n",
       "      <td>15200</td>\n",
       "    </tr>\n",
       "    <tr>\n",
       "      <th>2</th>\n",
       "      <td>1000001</td>\n",
       "      <td>P00087842</td>\n",
       "      <td>F</td>\n",
       "      <td>0-17</td>\n",
       "      <td>10</td>\n",
       "      <td>A</td>\n",
       "      <td>2</td>\n",
       "      <td>0</td>\n",
       "      <td>12</td>\n",
       "      <td>1422</td>\n",
       "    </tr>\n",
       "    <tr>\n",
       "      <th>3</th>\n",
       "      <td>1000001</td>\n",
       "      <td>P00085442</td>\n",
       "      <td>F</td>\n",
       "      <td>0-17</td>\n",
       "      <td>10</td>\n",
       "      <td>A</td>\n",
       "      <td>2</td>\n",
       "      <td>0</td>\n",
       "      <td>12</td>\n",
       "      <td>1057</td>\n",
       "    </tr>\n",
       "    <tr>\n",
       "      <th>4</th>\n",
       "      <td>1000002</td>\n",
       "      <td>P00285442</td>\n",
       "      <td>M</td>\n",
       "      <td>55+</td>\n",
       "      <td>16</td>\n",
       "      <td>C</td>\n",
       "      <td>4+</td>\n",
       "      <td>0</td>\n",
       "      <td>8</td>\n",
       "      <td>7969</td>\n",
       "    </tr>\n",
       "  </tbody>\n",
       "</table>\n",
       "</div>"
      ],
      "text/plain": [
       "   User_ID Product_ID Gender   Age Occupation City_Category  \\\n",
       "0  1000001  P00069042      F  0-17         10             A   \n",
       "1  1000001  P00248942      F  0-17         10             A   \n",
       "2  1000001  P00087842      F  0-17         10             A   \n",
       "3  1000001  P00085442      F  0-17         10             A   \n",
       "4  1000002  P00285442      M   55+         16             C   \n",
       "\n",
       "  Stay_In_Current_City_Years Marital_Status Product_Category  Purchase  \n",
       "0                          2              0                3      8370  \n",
       "1                          2              0                1     15200  \n",
       "2                          2              0               12      1422  \n",
       "3                          2              0               12      1057  \n",
       "4                         4+              0                8      7969  "
      ]
     },
     "execution_count": 59,
     "metadata": {},
     "output_type": "execute_result"
    }
   ],
   "source": [
    "df.head()"
   ]
  },
  {
   "cell_type": "code",
   "execution_count": 60,
   "id": "461fc417",
   "metadata": {},
   "outputs": [],
   "source": [
    "def calc_CI(mean, std, N, confidence):\n",
    "    # calculate std_error\n",
    "    std_error = std / np.sqrt(N)\n",
    "    print(\"Standard Error: \", std_error)\n",
    "\n",
    "    # calculate the remaining fractions\n",
    "    alpha=1-confidence\n",
    "\n",
    "\n",
    "    # calculate z1 and z2\n",
    "    z1 = norm.ppf(1-(alpha)/2)\n",
    "\n",
    "\n",
    "    # calculate end points\n",
    "    x1 = mean - (z1 * std_error)\n",
    "    x2 = mean + (z1 * std_error)\n",
    "\n",
    "    return \"x1:\",x1,\"x2:\" ,x2"
   ]
  },
  {
   "cell_type": "code",
   "execution_count": 61,
   "id": "295d4440",
   "metadata": {},
   "outputs": [
    {
     "data": {
      "text/html": [
       "<div>\n",
       "<style scoped>\n",
       "    .dataframe tbody tr th:only-of-type {\n",
       "        vertical-align: middle;\n",
       "    }\n",
       "\n",
       "    .dataframe tbody tr th {\n",
       "        vertical-align: top;\n",
       "    }\n",
       "\n",
       "    .dataframe thead th {\n",
       "        text-align: right;\n",
       "    }\n",
       "</style>\n",
       "<table border=\"1\" class=\"dataframe\">\n",
       "  <thead>\n",
       "    <tr style=\"text-align: right;\">\n",
       "      <th></th>\n",
       "      <th>User_ID</th>\n",
       "      <th>Product_ID</th>\n",
       "      <th>Gender</th>\n",
       "      <th>Age</th>\n",
       "      <th>Occupation</th>\n",
       "      <th>City_Category</th>\n",
       "      <th>Stay_In_Current_City_Years</th>\n",
       "      <th>Marital_Status</th>\n",
       "      <th>Product_Category</th>\n",
       "      <th>Purchase</th>\n",
       "    </tr>\n",
       "  </thead>\n",
       "  <tbody>\n",
       "    <tr>\n",
       "      <th>4</th>\n",
       "      <td>1000002</td>\n",
       "      <td>P00285442</td>\n",
       "      <td>M</td>\n",
       "      <td>55+</td>\n",
       "      <td>16</td>\n",
       "      <td>C</td>\n",
       "      <td>4+</td>\n",
       "      <td>0</td>\n",
       "      <td>8</td>\n",
       "      <td>7969</td>\n",
       "    </tr>\n",
       "    <tr>\n",
       "      <th>5</th>\n",
       "      <td>1000003</td>\n",
       "      <td>P00193542</td>\n",
       "      <td>M</td>\n",
       "      <td>26-35</td>\n",
       "      <td>15</td>\n",
       "      <td>A</td>\n",
       "      <td>3</td>\n",
       "      <td>0</td>\n",
       "      <td>1</td>\n",
       "      <td>15227</td>\n",
       "    </tr>\n",
       "    <tr>\n",
       "      <th>6</th>\n",
       "      <td>1000004</td>\n",
       "      <td>P00184942</td>\n",
       "      <td>M</td>\n",
       "      <td>46-50</td>\n",
       "      <td>7</td>\n",
       "      <td>B</td>\n",
       "      <td>2</td>\n",
       "      <td>1</td>\n",
       "      <td>1</td>\n",
       "      <td>19215</td>\n",
       "    </tr>\n",
       "    <tr>\n",
       "      <th>7</th>\n",
       "      <td>1000004</td>\n",
       "      <td>P00346142</td>\n",
       "      <td>M</td>\n",
       "      <td>46-50</td>\n",
       "      <td>7</td>\n",
       "      <td>B</td>\n",
       "      <td>2</td>\n",
       "      <td>1</td>\n",
       "      <td>1</td>\n",
       "      <td>15854</td>\n",
       "    </tr>\n",
       "    <tr>\n",
       "      <th>8</th>\n",
       "      <td>1000004</td>\n",
       "      <td>P0097242</td>\n",
       "      <td>M</td>\n",
       "      <td>46-50</td>\n",
       "      <td>7</td>\n",
       "      <td>B</td>\n",
       "      <td>2</td>\n",
       "      <td>1</td>\n",
       "      <td>1</td>\n",
       "      <td>15686</td>\n",
       "    </tr>\n",
       "  </tbody>\n",
       "</table>\n",
       "</div>"
      ],
      "text/plain": [
       "   User_ID Product_ID Gender    Age Occupation City_Category  \\\n",
       "4  1000002  P00285442      M    55+         16             C   \n",
       "5  1000003  P00193542      M  26-35         15             A   \n",
       "6  1000004  P00184942      M  46-50          7             B   \n",
       "7  1000004  P00346142      M  46-50          7             B   \n",
       "8  1000004   P0097242      M  46-50          7             B   \n",
       "\n",
       "  Stay_In_Current_City_Years Marital_Status Product_Category  Purchase  \n",
       "4                         4+              0                8      7969  \n",
       "5                          3              0                1     15227  \n",
       "6                          2              1                1     19215  \n",
       "7                          2              1                1     15854  \n",
       "8                          2              1                1     15686  "
      ]
     },
     "execution_count": 61,
     "metadata": {},
     "output_type": "execute_result"
    }
   ],
   "source": [
    "#dataset of male_customer\n",
    "df_male=df[df[\"Gender\"]==\"M\"]\n",
    "df_male.head()"
   ]
  },
  {
   "cell_type": "code",
   "execution_count": 62,
   "id": "d78d1d27",
   "metadata": {},
   "outputs": [
    {
     "name": "stdout",
     "output_type": "stream",
     "text": [
      "Standard Error:  7.911662926429179\n"
     ]
    },
    {
     "data": {
      "text/plain": [
       "('x1:', 9422.019466078644, 'x2:', 9453.032614865886)"
      ]
     },
     "execution_count": 62,
     "metadata": {},
     "output_type": "execute_result"
    }
   ],
   "source": [
    "#Confidence_interval of all expences by male customer\n",
    "male_mean=df_male[\"Purchase\"].mean()\n",
    "male_standred_deviation=np.std(df_male[\"Purchase\"])\n",
    "male_number=len(df_male)\n",
    "confidence=0.95\n",
    "calc_CI(male_mean, male_standred_deviation,male_number , confidence)"
   ]
  },
  {
   "cell_type": "code",
   "execution_count": 64,
   "id": "246d56e7",
   "metadata": {},
   "outputs": [
    {
     "data": {
      "text/html": [
       "<div>\n",
       "<style scoped>\n",
       "    .dataframe tbody tr th:only-of-type {\n",
       "        vertical-align: middle;\n",
       "    }\n",
       "\n",
       "    .dataframe tbody tr th {\n",
       "        vertical-align: top;\n",
       "    }\n",
       "\n",
       "    .dataframe thead th {\n",
       "        text-align: right;\n",
       "    }\n",
       "</style>\n",
       "<table border=\"1\" class=\"dataframe\">\n",
       "  <thead>\n",
       "    <tr style=\"text-align: right;\">\n",
       "      <th></th>\n",
       "      <th>User_ID</th>\n",
       "      <th>Product_ID</th>\n",
       "      <th>Gender</th>\n",
       "      <th>Age</th>\n",
       "      <th>Occupation</th>\n",
       "      <th>City_Category</th>\n",
       "      <th>Stay_In_Current_City_Years</th>\n",
       "      <th>Marital_Status</th>\n",
       "      <th>Product_Category</th>\n",
       "      <th>Purchase</th>\n",
       "    </tr>\n",
       "  </thead>\n",
       "  <tbody>\n",
       "    <tr>\n",
       "      <th>0</th>\n",
       "      <td>1000001</td>\n",
       "      <td>P00069042</td>\n",
       "      <td>F</td>\n",
       "      <td>0-17</td>\n",
       "      <td>10</td>\n",
       "      <td>A</td>\n",
       "      <td>2</td>\n",
       "      <td>0</td>\n",
       "      <td>3</td>\n",
       "      <td>8370</td>\n",
       "    </tr>\n",
       "    <tr>\n",
       "      <th>1</th>\n",
       "      <td>1000001</td>\n",
       "      <td>P00248942</td>\n",
       "      <td>F</td>\n",
       "      <td>0-17</td>\n",
       "      <td>10</td>\n",
       "      <td>A</td>\n",
       "      <td>2</td>\n",
       "      <td>0</td>\n",
       "      <td>1</td>\n",
       "      <td>15200</td>\n",
       "    </tr>\n",
       "    <tr>\n",
       "      <th>2</th>\n",
       "      <td>1000001</td>\n",
       "      <td>P00087842</td>\n",
       "      <td>F</td>\n",
       "      <td>0-17</td>\n",
       "      <td>10</td>\n",
       "      <td>A</td>\n",
       "      <td>2</td>\n",
       "      <td>0</td>\n",
       "      <td>12</td>\n",
       "      <td>1422</td>\n",
       "    </tr>\n",
       "    <tr>\n",
       "      <th>3</th>\n",
       "      <td>1000001</td>\n",
       "      <td>P00085442</td>\n",
       "      <td>F</td>\n",
       "      <td>0-17</td>\n",
       "      <td>10</td>\n",
       "      <td>A</td>\n",
       "      <td>2</td>\n",
       "      <td>0</td>\n",
       "      <td>12</td>\n",
       "      <td>1057</td>\n",
       "    </tr>\n",
       "    <tr>\n",
       "      <th>14</th>\n",
       "      <td>1000006</td>\n",
       "      <td>P00231342</td>\n",
       "      <td>F</td>\n",
       "      <td>51-55</td>\n",
       "      <td>9</td>\n",
       "      <td>A</td>\n",
       "      <td>1</td>\n",
       "      <td>0</td>\n",
       "      <td>5</td>\n",
       "      <td>5378</td>\n",
       "    </tr>\n",
       "  </tbody>\n",
       "</table>\n",
       "</div>"
      ],
      "text/plain": [
       "    User_ID Product_ID Gender    Age Occupation City_Category  \\\n",
       "0   1000001  P00069042      F   0-17         10             A   \n",
       "1   1000001  P00248942      F   0-17         10             A   \n",
       "2   1000001  P00087842      F   0-17         10             A   \n",
       "3   1000001  P00085442      F   0-17         10             A   \n",
       "14  1000006  P00231342      F  51-55          9             A   \n",
       "\n",
       "   Stay_In_Current_City_Years Marital_Status Product_Category  Purchase  \n",
       "0                           2              0                3      8370  \n",
       "1                           2              0                1     15200  \n",
       "2                           2              0               12      1422  \n",
       "3                           2              0               12      1057  \n",
       "14                          1              0                5      5378  "
      ]
     },
     "execution_count": 64,
     "metadata": {},
     "output_type": "execute_result"
    }
   ],
   "source": [
    "#dataset of female customer\n",
    "df_female=df[df[\"Gender\"]==\"F\"]\n",
    "df_female.head()\n"
   ]
  },
  {
   "cell_type": "code",
   "execution_count": 65,
   "id": "78f0a5c5",
   "metadata": {},
   "outputs": [
    {
     "name": "stdout",
     "output_type": "stream",
     "text": [
      "Standard Error:  12.936015594920622\n"
     ]
    },
    {
     "data": {
      "text/plain": [
       "('x1:', 8709.211640485983, 'x2:', 8759.919889824969)"
      ]
     },
     "execution_count": 65,
     "metadata": {},
     "output_type": "execute_result"
    }
   ],
   "source": [
    "#Confidence_interval of all expences by female customer\n",
    "female_mean=df_female[\"Purchase\"].mean()\n",
    "female_standred_deviation=np.std(df_female[\"Purchase\"])\n",
    "female_number=len(df_female)\n",
    "confidence=0.95\n",
    "calc_CI(female_mean, female_standred_deviation,female_number , confidence)"
   ]
  },
  {
   "cell_type": "code",
   "execution_count": 66,
   "id": "b99a797b",
   "metadata": {},
   "outputs": [
    {
     "data": {
      "text/plain": [
       "Text(0.5, 1.0, 'female-distribution')"
      ]
     },
     "execution_count": 66,
     "metadata": {},
     "output_type": "execute_result"
    },
    {
     "data": {
      "image/png": "[encoded data removed]",
      "text/plain": [
       "<Figure size 720x288 with 2 Axes>"
      ]
     },
     "metadata": {
      "needs_background": "light"
     },
     "output_type": "display_data"
    }
   ],
   "source": [
    "#Distribution of the  expenses by female and male customers\n",
    "fig,ax=plt.subplots(1,2,figsize=(10,4))\n",
    "fig.suptitle(\"Distribution of the  expenses by female and male customers\")\n",
    "\n",
    "plt.subplot(1,2,1)\n",
    "sns.histplot(data=df_male,x=\"Purchase\",bins=25)\n",
    "plt.title(\"male-distribution\")\n",
    "\n",
    "plt.subplot(1,2,2)\n",
    "sns.histplot(data=df_female,x=\"Purchase\",bins=25)\n",
    "plt.title(\"female-distribution\")"
   ]
  },
  {
   "cell_type": "code",
   "execution_count": 67,
   "id": "a0877fef",
   "metadata": {},
   "outputs": [
    {
     "name": "stdout",
     "output_type": "stream",
     "text": [
      "mean of sample_mean of male: 9434.948166125\n",
      "Standard Error:  1.798851835630655\n"
     ]
    },
    {
     "data": {
      "text/plain": [
       "('x1:', 9431.422481313639, 'x2:', 9438.47385093636)"
      ]
     },
     "execution_count": 67,
     "metadata": {},
     "output_type": "execute_result"
    }
   ],
   "source": [
    "#Confidence_interval  of the mean of the expenses by male customers.\n",
    "#in this take 2000 sample  of length of 4000\n",
    "male_sample_size=4000\n",
    "number_of_repetation =2000\n",
    "male_means=[]\n",
    "for i in range(number_of_repetation):\n",
    "  male_mean=df_male.sample(male_sample_size,replace=True)[\"Purchase\"].mean()\n",
    "  male_means.append(male_mean)\n",
    "# finding confidence_interval:\n",
    "male_sample_mean=np.mean(male_means)\n",
    "male_sample_std=np.std(male_means)\n",
    "N=number_of_repetation\n",
    "confidence=0.95\n",
    "print(\"mean of sample_mean of male:\",np.mean(male_means))\n",
    "calc_CI(male_sample_mean,male_sample_std , N, confidence)\n"
   ]
  },
  {
   "cell_type": "code",
   "execution_count": 68,
   "id": "6b4abcb9",
   "metadata": {},
   "outputs": [
    {
     "name": "stdout",
     "output_type": "stream",
     "text": [
      "mean of sample_mean of female: 8737.776605111112\n",
      "Standard Error:  2.2827770602755297\n"
     ]
    },
    {
     "data": {
      "text/plain": [
       "('x1:', 8733.302444288238, 'x2:', 8742.250765933986)"
      ]
     },
     "execution_count": 68,
     "metadata": {},
     "output_type": "execute_result"
    }
   ],
   "source": [
    "#Confidence_interval  of the mean of the expenses by female customers.\n",
    "#in this take 1500 sample  of length of 3000\n",
    "female_sample_size=3000\n",
    "number_of_repetation =1500\n",
    "female_means=[]\n",
    "for i in range(number_of_repetation):\n",
    "  female_mean=df_female.sample(female_sample_size,replace=True)[\"Purchase\"].mean()\n",
    "  female_means.append(female_mean)\n",
    "# finding confidence_interval:\n",
    "female_sample_mean=np.mean(female_means)\n",
    "female_sample_std=np.std(female_means)\n",
    "N=number_of_repetation\n",
    "confidence=0.95\n",
    "print(\"mean of sample_mean of female:\",np.mean(female_means))\n",
    "calc_CI(female_sample_mean,female_sample_std , N, confidence)\n"
   ]
  },
  {
   "cell_type": "code",
   "execution_count": null,
   "id": "41ef714f",
   "metadata": {},
   "outputs": [],
   "source": []
  },
  {
   "cell_type": "markdown",
   "id": "9d13767d",
   "metadata": {},
   "source": [
    "# 3.Distribution of the mean of the expenses by female and male customers."
   ]
  },
  {
   "cell_type": "code",
   "execution_count": 69,
   "id": "18a51a58",
   "metadata": {},
   "outputs": [
    {
     "data": {
      "text/plain": [
       "Text(0.5, 1.0, 'female-distribution of mean,sample size 1500')"
      ]
     },
     "execution_count": 69,
     "metadata": {},
     "output_type": "execute_result"
    },
    {
     "data": {
      "image/png": "[encoded data removed]",
      "text/plain": [
       "<Figure size 720x288 with 2 Axes>"
      ]
     },
     "metadata": {
      "needs_background": "light"
     },
     "output_type": "display_data"
    }
   ],
   "source": [
    "fig,ax=plt.subplots(1,2,figsize=(10,4))\n",
    "fig.suptitle(\"Distribution of the mean of the expenses by female and male customers\")\n",
    "\n",
    "plt.subplot(1,2,1)\n",
    "sns.histplot(data=male_means,bins=25)\n",
    "plt.title(\"male-distribution of mean,sample size 2000\")\n",
    "\n",
    "plt.subplot(1,2,2)\n",
    "sns.histplot(data=female_means,bins=25)\n",
    "plt.title(\"female-distribution of mean,sample size 1500\")"
   ]
  },
  {
   "cell_type": "markdown",
   "id": "fd6e5ffe",
   "metadata": {},
   "source": [
    "### insights:\n",
    "    \n",
    "According to the central limit theorem sample means tend to follow a normal distribution, even if the original \n",
    "population isn't normal.So Distribution of the mean of the expenses by female and male customers is normal \n",
    "distribution"
   ]
  },
  {
   "cell_type": "code",
   "execution_count": null,
   "id": "991be261",
   "metadata": {},
   "outputs": [],
   "source": []
  },
  {
   "cell_type": "markdown",
   "id": "e1d97d22",
   "metadata": {},
   "source": [
    "# 4.Are confidence intervals of average male and female \n",
    "# spending overlapping? How can Walmart leverage this conclusion to make \n",
    "# changes or improvements?"
   ]
  },
  {
   "cell_type": "code",
   "execution_count": 71,
   "id": "a6840854",
   "metadata": {},
   "outputs": [
    {
     "name": "stdout",
     "output_type": "stream",
     "text": [
      "Standard Error:  2.0771351830672224\n",
      "confidence intervals of average male: ('x1:', 9430.877055975167, 'x2:', 9439.019276274832)\n",
      "Standard Error:  2.2827770602755297\n",
      "confidence intervals of average female: ('x1:', 8733.302444288238, 'x2:', 8742.250765933986)\n"
     ]
    }
   ],
   "source": [
    "print(\"confidence intervals of average male:\",calc_CI(male_sample_mean,male_sample_std , N, confidence))\n",
    "print(\"confidence intervals of average female:\",calc_CI(female_sample_mean,female_sample_std , N, confidence))"
   ]
  },
  {
   "cell_type": "code",
   "execution_count": null,
   "id": "99acfc5b",
   "metadata": {},
   "outputs": [],
   "source": [
    "The confidence intervals of the average spending for both males and females do not overlap. \n",
    "For males, the confidence interval ranges from approximately 9432.66 to 9440.62, while for \n",
    "females, it ranges from approximately 8730.07 to 8738.96.\n",
    "\n",
    "Company can use this finding to better understand how men and women shop differently. \n",
    "They can then adjust their marketing and product offerings to make shopping more \n",
    "appealing to each group, potentially boosting sales and customer satisfaction."
   ]
  },
  {
   "cell_type": "code",
   "execution_count": null,
   "id": "924f9fa8",
   "metadata": {},
   "outputs": [],
   "source": []
  },
  {
   "cell_type": "markdown",
   "id": "4b4886b0",
   "metadata": {},
   "source": [
    "# 5.Confidence intervals and distribution of the mean of the expenses by married and unmarried customers"
   ]
  },
  {
   "cell_type": "code",
   "execution_count": 72,
   "id": "29513aab",
   "metadata": {},
   "outputs": [
    {
     "data": {
      "text/html": [
       "<div>\n",
       "<style scoped>\n",
       "    .dataframe tbody tr th:only-of-type {\n",
       "        vertical-align: middle;\n",
       "    }\n",
       "\n",
       "    .dataframe tbody tr th {\n",
       "        vertical-align: top;\n",
       "    }\n",
       "\n",
       "    .dataframe thead th {\n",
       "        text-align: right;\n",
       "    }\n",
       "</style>\n",
       "<table border=\"1\" class=\"dataframe\">\n",
       "  <thead>\n",
       "    <tr style=\"text-align: right;\">\n",
       "      <th></th>\n",
       "      <th>User_ID</th>\n",
       "      <th>Product_ID</th>\n",
       "      <th>Gender</th>\n",
       "      <th>Age</th>\n",
       "      <th>Occupation</th>\n",
       "      <th>City_Category</th>\n",
       "      <th>Stay_In_Current_City_Years</th>\n",
       "      <th>Marital_Status</th>\n",
       "      <th>Product_Category</th>\n",
       "      <th>Purchase</th>\n",
       "    </tr>\n",
       "  </thead>\n",
       "  <tbody>\n",
       "    <tr>\n",
       "      <th>6</th>\n",
       "      <td>1000004</td>\n",
       "      <td>P00184942</td>\n",
       "      <td>M</td>\n",
       "      <td>46-50</td>\n",
       "      <td>7</td>\n",
       "      <td>B</td>\n",
       "      <td>2</td>\n",
       "      <td>1</td>\n",
       "      <td>1</td>\n",
       "      <td>19215</td>\n",
       "    </tr>\n",
       "    <tr>\n",
       "      <th>7</th>\n",
       "      <td>1000004</td>\n",
       "      <td>P00346142</td>\n",
       "      <td>M</td>\n",
       "      <td>46-50</td>\n",
       "      <td>7</td>\n",
       "      <td>B</td>\n",
       "      <td>2</td>\n",
       "      <td>1</td>\n",
       "      <td>1</td>\n",
       "      <td>15854</td>\n",
       "    </tr>\n",
       "    <tr>\n",
       "      <th>8</th>\n",
       "      <td>1000004</td>\n",
       "      <td>P0097242</td>\n",
       "      <td>M</td>\n",
       "      <td>46-50</td>\n",
       "      <td>7</td>\n",
       "      <td>B</td>\n",
       "      <td>2</td>\n",
       "      <td>1</td>\n",
       "      <td>1</td>\n",
       "      <td>15686</td>\n",
       "    </tr>\n",
       "    <tr>\n",
       "      <th>9</th>\n",
       "      <td>1000005</td>\n",
       "      <td>P00274942</td>\n",
       "      <td>M</td>\n",
       "      <td>26-35</td>\n",
       "      <td>20</td>\n",
       "      <td>A</td>\n",
       "      <td>1</td>\n",
       "      <td>1</td>\n",
       "      <td>8</td>\n",
       "      <td>7871</td>\n",
       "    </tr>\n",
       "    <tr>\n",
       "      <th>10</th>\n",
       "      <td>1000005</td>\n",
       "      <td>P00251242</td>\n",
       "      <td>M</td>\n",
       "      <td>26-35</td>\n",
       "      <td>20</td>\n",
       "      <td>A</td>\n",
       "      <td>1</td>\n",
       "      <td>1</td>\n",
       "      <td>5</td>\n",
       "      <td>5254</td>\n",
       "    </tr>\n",
       "  </tbody>\n",
       "</table>\n",
       "</div>"
      ],
      "text/plain": [
       "    User_ID Product_ID Gender    Age Occupation City_Category  \\\n",
       "6   1000004  P00184942      M  46-50          7             B   \n",
       "7   1000004  P00346142      M  46-50          7             B   \n",
       "8   1000004   P0097242      M  46-50          7             B   \n",
       "9   1000005  P00274942      M  26-35         20             A   \n",
       "10  1000005  P00251242      M  26-35         20             A   \n",
       "\n",
       "   Stay_In_Current_City_Years Marital_Status Product_Category  Purchase  \n",
       "6                           2              1                1     19215  \n",
       "7                           2              1                1     15854  \n",
       "8                           2              1                1     15686  \n",
       "9                           1              1                8      7871  \n",
       "10                          1              1                5      5254  "
      ]
     },
     "execution_count": 72,
     "metadata": {},
     "output_type": "execute_result"
    }
   ],
   "source": [
    "df_married=df[df[\"Marital_Status\"]==1]\n",
    "df_married.head()"
   ]
  },
  {
   "cell_type": "code",
   "execution_count": 73,
   "id": "0347bb56",
   "metadata": {},
   "outputs": [
    {
     "data": {
      "text/html": [
       "<div>\n",
       "<style scoped>\n",
       "    .dataframe tbody tr th:only-of-type {\n",
       "        vertical-align: middle;\n",
       "    }\n",
       "\n",
       "    .dataframe tbody tr th {\n",
       "        vertical-align: top;\n",
       "    }\n",
       "\n",
       "    .dataframe thead th {\n",
       "        text-align: right;\n",
       "    }\n",
       "</style>\n",
       "<table border=\"1\" class=\"dataframe\">\n",
       "  <thead>\n",
       "    <tr style=\"text-align: right;\">\n",
       "      <th></th>\n",
       "      <th>User_ID</th>\n",
       "      <th>Product_ID</th>\n",
       "      <th>Gender</th>\n",
       "      <th>Age</th>\n",
       "      <th>Occupation</th>\n",
       "      <th>City_Category</th>\n",
       "      <th>Stay_In_Current_City_Years</th>\n",
       "      <th>Marital_Status</th>\n",
       "      <th>Product_Category</th>\n",
       "      <th>Purchase</th>\n",
       "    </tr>\n",
       "  </thead>\n",
       "  <tbody>\n",
       "    <tr>\n",
       "      <th>0</th>\n",
       "      <td>1000001</td>\n",
       "      <td>P00069042</td>\n",
       "      <td>F</td>\n",
       "      <td>0-17</td>\n",
       "      <td>10</td>\n",
       "      <td>A</td>\n",
       "      <td>2</td>\n",
       "      <td>0</td>\n",
       "      <td>3</td>\n",
       "      <td>8370</td>\n",
       "    </tr>\n",
       "    <tr>\n",
       "      <th>1</th>\n",
       "      <td>1000001</td>\n",
       "      <td>P00248942</td>\n",
       "      <td>F</td>\n",
       "      <td>0-17</td>\n",
       "      <td>10</td>\n",
       "      <td>A</td>\n",
       "      <td>2</td>\n",
       "      <td>0</td>\n",
       "      <td>1</td>\n",
       "      <td>15200</td>\n",
       "    </tr>\n",
       "    <tr>\n",
       "      <th>2</th>\n",
       "      <td>1000001</td>\n",
       "      <td>P00087842</td>\n",
       "      <td>F</td>\n",
       "      <td>0-17</td>\n",
       "      <td>10</td>\n",
       "      <td>A</td>\n",
       "      <td>2</td>\n",
       "      <td>0</td>\n",
       "      <td>12</td>\n",
       "      <td>1422</td>\n",
       "    </tr>\n",
       "    <tr>\n",
       "      <th>3</th>\n",
       "      <td>1000001</td>\n",
       "      <td>P00085442</td>\n",
       "      <td>F</td>\n",
       "      <td>0-17</td>\n",
       "      <td>10</td>\n",
       "      <td>A</td>\n",
       "      <td>2</td>\n",
       "      <td>0</td>\n",
       "      <td>12</td>\n",
       "      <td>1057</td>\n",
       "    </tr>\n",
       "    <tr>\n",
       "      <th>4</th>\n",
       "      <td>1000002</td>\n",
       "      <td>P00285442</td>\n",
       "      <td>M</td>\n",
       "      <td>55+</td>\n",
       "      <td>16</td>\n",
       "      <td>C</td>\n",
       "      <td>4+</td>\n",
       "      <td>0</td>\n",
       "      <td>8</td>\n",
       "      <td>7969</td>\n",
       "    </tr>\n",
       "  </tbody>\n",
       "</table>\n",
       "</div>"
      ],
      "text/plain": [
       "   User_ID Product_ID Gender   Age Occupation City_Category  \\\n",
       "0  1000001  P00069042      F  0-17         10             A   \n",
       "1  1000001  P00248942      F  0-17         10             A   \n",
       "2  1000001  P00087842      F  0-17         10             A   \n",
       "3  1000001  P00085442      F  0-17         10             A   \n",
       "4  1000002  P00285442      M   55+         16             C   \n",
       "\n",
       "  Stay_In_Current_City_Years Marital_Status Product_Category  Purchase  \n",
       "0                          2              0                3      8370  \n",
       "1                          2              0                1     15200  \n",
       "2                          2              0               12      1422  \n",
       "3                          2              0               12      1057  \n",
       "4                         4+              0                8      7969  "
      ]
     },
     "execution_count": 73,
     "metadata": {},
     "output_type": "execute_result"
    }
   ],
   "source": [
    "df_unmarried=df[df[\"Marital_Status\"]==0]\n",
    "df_unmarried.head()"
   ]
  },
  {
   "cell_type": "code",
   "execution_count": 74,
   "id": "3520997e",
   "metadata": {},
   "outputs": [
    {
     "name": "stdout",
     "output_type": "stream",
     "text": [
      "mean of married_sample_mean : 9262.761824125\n",
      "Standard Error:  1.760657439961256\n",
      "confidence_interval_married: ('x1:', 9259.310998953564, 'x2:', 9266.212649296436)\n"
     ]
    }
   ],
   "source": [
    "#Confidence_interval  of the mean of the expenses by married customers.\n",
    "married_sample_size=4000\n",
    "number_of_repetation =2000\n",
    "\n",
    "married_means=[]\n",
    "for i in range(number_of_repetation):\n",
    "  married_mean=df_married.sample(married_sample_size,replace=True)[\"Purchase\"].mean()\n",
    "  married_means.append(married_mean)\n",
    "\n",
    "# finding confidence_interval:\n",
    "married_sample_mean=np.mean(married_means)\n",
    "married_sample_std=np.std(married_means)\n",
    "N=number_of_repetation\n",
    "confidence=0.95\n",
    "print(\"mean of married_sample_mean :\",np.mean(married_means))\n",
    "print(\"confidence_interval_married:\",calc_CI(married_sample_mean,married_sample_std , N, confidence))\n"
   ]
  },
  {
   "cell_type": "code",
   "execution_count": 75,
   "id": "711e1a3b",
   "metadata": {},
   "outputs": [
    {
     "name": "stdout",
     "output_type": "stream",
     "text": [
      "mean of unmarried_sample_mean : 9262.761824125\n",
      "Standard Error:  2.3949495353504933\n",
      "confidence_interval_unmarried: ('x1:', 9261.461136499254, 'x2:', 9270.84916616741)\n"
     ]
    }
   ],
   "source": [
    "#Confidence_interval  of the mean of the expenses by unmarried customers.\n",
    "unmarried_sample_size=3000\n",
    "number_of_repetation =1500\n",
    "\n",
    "unmarried_means=[]\n",
    "for i in range(number_of_repetation):\n",
    "  unmarried_mean=df_unmarried.sample(unmarried_sample_size,replace=True)[\"Purchase\"].mean()\n",
    "  unmarried_means.append(unmarried_mean)\n",
    "\n",
    "# finding confidence_interval:\n",
    "unmarried_sample_mean=np.mean(unmarried_means)\n",
    "unmarried_sample_std=np.std(unmarried_means)\n",
    "N=number_of_repetation\n",
    "confidence=0.95\n",
    "print(\"mean of unmarried_sample_mean :\",np.mean(married_means))\n",
    "print(\"confidence_interval_unmarried:\",calc_CI(unmarried_sample_mean,unmarried_sample_std , N, confidence))\n"
   ]
  },
  {
   "cell_type": "markdown",
   "id": "4267e1e8",
   "metadata": {},
   "source": [
    "### Distribution of the mean of the expenses by married and unmarried customers."
   ]
  },
  {
   "cell_type": "code",
   "execution_count": 76,
   "id": "a26dd444",
   "metadata": {},
   "outputs": [
    {
     "data": {
      "text/plain": [
       "Text(0.5, 1.0, 'unmarried-distribution of mean,sample size 3000')"
      ]
     },
     "execution_count": 76,
     "metadata": {},
     "output_type": "execute_result"
    },
    {
     "data": {
      "image/png": "[encoded data removed]",
      "text/plain": [
       "<Figure size 720x288 with 2 Axes>"
      ]
     },
     "metadata": {
      "needs_background": "light"
     },
     "output_type": "display_data"
    }
   ],
   "source": [
    "fig,ax=plt.subplots(1,2,figsize=(10,4))\n",
    "fig.suptitle(\"Distribution of the mean of the expenses by married and unmarried customers\")\n",
    "\n",
    "plt.subplot(1,2,1)\n",
    "sns.histplot(data=married_means,bins=25)\n",
    "plt.title(\"married-distribution of mean,sample size 4000\")\n",
    "\n",
    "plt.subplot(1,2,2)\n",
    "sns.histplot(data=unmarried_means,bins=25)\n",
    "plt.title(\"unmarried-distribution of mean,sample size 3000\")\n",
    "     "
   ]
  },
  {
   "cell_type": "markdown",
   "id": "c94ef4b1",
   "metadata": {},
   "source": [
    "### Are confidence intervals of average married and unmarried spending overlapping? \n",
    "### How can Walmart leverage this conclusion to make changes or improvements?"
   ]
  },
  {
   "cell_type": "code",
   "execution_count": 78,
   "id": "62cefe0a",
   "metadata": {},
   "outputs": [
    {
     "name": "stdout",
     "output_type": "stream",
     "text": [
      "Standard Error:  2.033032093824697\n",
      "confidence intervals of average married: ('x1:', 9258.77715444169, 'x2:', 9266.74649380831)\n",
      "Standard Error:  2.3949495353504933\n",
      "confidence intervals of average unmarried: ('x1:', 9261.461136499254, 'x2:', 9270.84916616741)\n"
     ]
    }
   ],
   "source": [
    "print(\"confidence intervals of average married:\",calc_CI(married_sample_mean,married_sample_std , N, confidence))\n",
    "print(\"confidence intervals of average unmarried:\",calc_CI(unmarried_sample_mean,unmarried_sample_std , N, confidence))"
   ]
  },
  {
   "cell_type": "markdown",
   "id": "0993a521",
   "metadata": {},
   "source": [
    "### Insights:\n",
    "    \n",
    "The confidence intervals of average spending for married and unmarried customers overlap, indicating that there is no statistically significant difference in spending between these two groups.\n",
    "\n",
    "To leverage this conclusion, The retail company can focus on providing a consistent shopping experience for both married and unmarried customers. They can continue to offer a diverse range of products and promotions that appeal to a broad customer base, ensuring that both groups feel valued and catered to."
   ]
  },
  {
   "cell_type": "code",
   "execution_count": null,
   "id": "474cc8ba",
   "metadata": {},
   "outputs": [],
   "source": []
  },
  {
   "cell_type": "markdown",
   "id": "c130a1ce",
   "metadata": {},
   "source": [
    "# 6.Confidence intervals and distribution of the mean of the expenses by different Age group customers."
   ]
  },
  {
   "cell_type": "code",
   "execution_count": 80,
   "id": "90b04c96",
   "metadata": {},
   "outputs": [
    {
     "data": {
      "text/html": [
       "<div>\n",
       "<style scoped>\n",
       "    .dataframe tbody tr th:only-of-type {\n",
       "        vertical-align: middle;\n",
       "    }\n",
       "\n",
       "    .dataframe tbody tr th {\n",
       "        vertical-align: top;\n",
       "    }\n",
       "\n",
       "    .dataframe thead th {\n",
       "        text-align: right;\n",
       "    }\n",
       "</style>\n",
       "<table border=\"1\" class=\"dataframe\">\n",
       "  <thead>\n",
       "    <tr style=\"text-align: right;\">\n",
       "      <th></th>\n",
       "      <th>User_ID</th>\n",
       "      <th>Product_ID</th>\n",
       "      <th>Gender</th>\n",
       "      <th>Age</th>\n",
       "      <th>Occupation</th>\n",
       "      <th>City_Category</th>\n",
       "      <th>Stay_In_Current_City_Years</th>\n",
       "      <th>Marital_Status</th>\n",
       "      <th>Product_Category</th>\n",
       "      <th>Purchase</th>\n",
       "    </tr>\n",
       "  </thead>\n",
       "  <tbody>\n",
       "    <tr>\n",
       "      <th>0</th>\n",
       "      <td>1000001</td>\n",
       "      <td>P00069042</td>\n",
       "      <td>F</td>\n",
       "      <td>0-17</td>\n",
       "      <td>10</td>\n",
       "      <td>A</td>\n",
       "      <td>2</td>\n",
       "      <td>0</td>\n",
       "      <td>3</td>\n",
       "      <td>8370</td>\n",
       "    </tr>\n",
       "    <tr>\n",
       "      <th>1</th>\n",
       "      <td>1000001</td>\n",
       "      <td>P00248942</td>\n",
       "      <td>F</td>\n",
       "      <td>0-17</td>\n",
       "      <td>10</td>\n",
       "      <td>A</td>\n",
       "      <td>2</td>\n",
       "      <td>0</td>\n",
       "      <td>1</td>\n",
       "      <td>15200</td>\n",
       "    </tr>\n",
       "    <tr>\n",
       "      <th>2</th>\n",
       "      <td>1000001</td>\n",
       "      <td>P00087842</td>\n",
       "      <td>F</td>\n",
       "      <td>0-17</td>\n",
       "      <td>10</td>\n",
       "      <td>A</td>\n",
       "      <td>2</td>\n",
       "      <td>0</td>\n",
       "      <td>12</td>\n",
       "      <td>1422</td>\n",
       "    </tr>\n",
       "    <tr>\n",
       "      <th>3</th>\n",
       "      <td>1000001</td>\n",
       "      <td>P00085442</td>\n",
       "      <td>F</td>\n",
       "      <td>0-17</td>\n",
       "      <td>10</td>\n",
       "      <td>A</td>\n",
       "      <td>2</td>\n",
       "      <td>0</td>\n",
       "      <td>12</td>\n",
       "      <td>1057</td>\n",
       "    </tr>\n",
       "    <tr>\n",
       "      <th>4</th>\n",
       "      <td>1000002</td>\n",
       "      <td>P00285442</td>\n",
       "      <td>M</td>\n",
       "      <td>55+</td>\n",
       "      <td>16</td>\n",
       "      <td>C</td>\n",
       "      <td>4+</td>\n",
       "      <td>0</td>\n",
       "      <td>8</td>\n",
       "      <td>7969</td>\n",
       "    </tr>\n",
       "    <tr>\n",
       "      <th>5</th>\n",
       "      <td>1000003</td>\n",
       "      <td>P00193542</td>\n",
       "      <td>M</td>\n",
       "      <td>26-35</td>\n",
       "      <td>15</td>\n",
       "      <td>A</td>\n",
       "      <td>3</td>\n",
       "      <td>0</td>\n",
       "      <td>1</td>\n",
       "      <td>15227</td>\n",
       "    </tr>\n",
       "    <tr>\n",
       "      <th>6</th>\n",
       "      <td>1000004</td>\n",
       "      <td>P00184942</td>\n",
       "      <td>M</td>\n",
       "      <td>46-50</td>\n",
       "      <td>7</td>\n",
       "      <td>B</td>\n",
       "      <td>2</td>\n",
       "      <td>1</td>\n",
       "      <td>1</td>\n",
       "      <td>19215</td>\n",
       "    </tr>\n",
       "    <tr>\n",
       "      <th>7</th>\n",
       "      <td>1000004</td>\n",
       "      <td>P00346142</td>\n",
       "      <td>M</td>\n",
       "      <td>46-50</td>\n",
       "      <td>7</td>\n",
       "      <td>B</td>\n",
       "      <td>2</td>\n",
       "      <td>1</td>\n",
       "      <td>1</td>\n",
       "      <td>15854</td>\n",
       "    </tr>\n",
       "    <tr>\n",
       "      <th>8</th>\n",
       "      <td>1000004</td>\n",
       "      <td>P0097242</td>\n",
       "      <td>M</td>\n",
       "      <td>46-50</td>\n",
       "      <td>7</td>\n",
       "      <td>B</td>\n",
       "      <td>2</td>\n",
       "      <td>1</td>\n",
       "      <td>1</td>\n",
       "      <td>15686</td>\n",
       "    </tr>\n",
       "    <tr>\n",
       "      <th>9</th>\n",
       "      <td>1000005</td>\n",
       "      <td>P00274942</td>\n",
       "      <td>M</td>\n",
       "      <td>26-35</td>\n",
       "      <td>20</td>\n",
       "      <td>A</td>\n",
       "      <td>1</td>\n",
       "      <td>1</td>\n",
       "      <td>8</td>\n",
       "      <td>7871</td>\n",
       "    </tr>\n",
       "    <tr>\n",
       "      <th>10</th>\n",
       "      <td>1000005</td>\n",
       "      <td>P00251242</td>\n",
       "      <td>M</td>\n",
       "      <td>26-35</td>\n",
       "      <td>20</td>\n",
       "      <td>A</td>\n",
       "      <td>1</td>\n",
       "      <td>1</td>\n",
       "      <td>5</td>\n",
       "      <td>5254</td>\n",
       "    </tr>\n",
       "    <tr>\n",
       "      <th>11</th>\n",
       "      <td>1000005</td>\n",
       "      <td>P00014542</td>\n",
       "      <td>M</td>\n",
       "      <td>26-35</td>\n",
       "      <td>20</td>\n",
       "      <td>A</td>\n",
       "      <td>1</td>\n",
       "      <td>1</td>\n",
       "      <td>8</td>\n",
       "      <td>3957</td>\n",
       "    </tr>\n",
       "    <tr>\n",
       "      <th>12</th>\n",
       "      <td>1000005</td>\n",
       "      <td>P00031342</td>\n",
       "      <td>M</td>\n",
       "      <td>26-35</td>\n",
       "      <td>20</td>\n",
       "      <td>A</td>\n",
       "      <td>1</td>\n",
       "      <td>1</td>\n",
       "      <td>8</td>\n",
       "      <td>6073</td>\n",
       "    </tr>\n",
       "    <tr>\n",
       "      <th>13</th>\n",
       "      <td>1000005</td>\n",
       "      <td>P00145042</td>\n",
       "      <td>M</td>\n",
       "      <td>26-35</td>\n",
       "      <td>20</td>\n",
       "      <td>A</td>\n",
       "      <td>1</td>\n",
       "      <td>1</td>\n",
       "      <td>1</td>\n",
       "      <td>15665</td>\n",
       "    </tr>\n",
       "    <tr>\n",
       "      <th>14</th>\n",
       "      <td>1000006</td>\n",
       "      <td>P00231342</td>\n",
       "      <td>F</td>\n",
       "      <td>51-55</td>\n",
       "      <td>9</td>\n",
       "      <td>A</td>\n",
       "      <td>1</td>\n",
       "      <td>0</td>\n",
       "      <td>5</td>\n",
       "      <td>5378</td>\n",
       "    </tr>\n",
       "    <tr>\n",
       "      <th>15</th>\n",
       "      <td>1000006</td>\n",
       "      <td>P00190242</td>\n",
       "      <td>F</td>\n",
       "      <td>51-55</td>\n",
       "      <td>9</td>\n",
       "      <td>A</td>\n",
       "      <td>1</td>\n",
       "      <td>0</td>\n",
       "      <td>4</td>\n",
       "      <td>2079</td>\n",
       "    </tr>\n",
       "    <tr>\n",
       "      <th>16</th>\n",
       "      <td>1000006</td>\n",
       "      <td>P0096642</td>\n",
       "      <td>F</td>\n",
       "      <td>51-55</td>\n",
       "      <td>9</td>\n",
       "      <td>A</td>\n",
       "      <td>1</td>\n",
       "      <td>0</td>\n",
       "      <td>2</td>\n",
       "      <td>13055</td>\n",
       "    </tr>\n",
       "    <tr>\n",
       "      <th>17</th>\n",
       "      <td>1000006</td>\n",
       "      <td>P00058442</td>\n",
       "      <td>F</td>\n",
       "      <td>51-55</td>\n",
       "      <td>9</td>\n",
       "      <td>A</td>\n",
       "      <td>1</td>\n",
       "      <td>0</td>\n",
       "      <td>5</td>\n",
       "      <td>8851</td>\n",
       "    </tr>\n",
       "    <tr>\n",
       "      <th>18</th>\n",
       "      <td>1000007</td>\n",
       "      <td>P00036842</td>\n",
       "      <td>M</td>\n",
       "      <td>36-45</td>\n",
       "      <td>1</td>\n",
       "      <td>B</td>\n",
       "      <td>1</td>\n",
       "      <td>1</td>\n",
       "      <td>1</td>\n",
       "      <td>11788</td>\n",
       "    </tr>\n",
       "    <tr>\n",
       "      <th>19</th>\n",
       "      <td>1000008</td>\n",
       "      <td>P00249542</td>\n",
       "      <td>M</td>\n",
       "      <td>26-35</td>\n",
       "      <td>12</td>\n",
       "      <td>C</td>\n",
       "      <td>4+</td>\n",
       "      <td>1</td>\n",
       "      <td>1</td>\n",
       "      <td>19614</td>\n",
       "    </tr>\n",
       "  </tbody>\n",
       "</table>\n",
       "</div>"
      ],
      "text/plain": [
       "    User_ID Product_ID Gender    Age Occupation City_Category  \\\n",
       "0   1000001  P00069042      F   0-17         10             A   \n",
       "1   1000001  P00248942      F   0-17         10             A   \n",
       "2   1000001  P00087842      F   0-17         10             A   \n",
       "3   1000001  P00085442      F   0-17         10             A   \n",
       "4   1000002  P00285442      M    55+         16             C   \n",
       "5   1000003  P00193542      M  26-35         15             A   \n",
       "6   1000004  P00184942      M  46-50          7             B   \n",
       "7   1000004  P00346142      M  46-50          7             B   \n",
       "8   1000004   P0097242      M  46-50          7             B   \n",
       "9   1000005  P00274942      M  26-35         20             A   \n",
       "10  1000005  P00251242      M  26-35         20             A   \n",
       "11  1000005  P00014542      M  26-35         20             A   \n",
       "12  1000005  P00031342      M  26-35         20             A   \n",
       "13  1000005  P00145042      M  26-35         20             A   \n",
       "14  1000006  P00231342      F  51-55          9             A   \n",
       "15  1000006  P00190242      F  51-55          9             A   \n",
       "16  1000006   P0096642      F  51-55          9             A   \n",
       "17  1000006  P00058442      F  51-55          9             A   \n",
       "18  1000007  P00036842      M  36-45          1             B   \n",
       "19  1000008  P00249542      M  26-35         12             C   \n",
       "\n",
       "   Stay_In_Current_City_Years Marital_Status Product_Category  Purchase  \n",
       "0                           2              0                3      8370  \n",
       "1                           2              0                1     15200  \n",
       "2                           2              0               12      1422  \n",
       "3                           2              0               12      1057  \n",
       "4                          4+              0                8      7969  \n",
       "5                           3              0                1     15227  \n",
       "6                           2              1                1     19215  \n",
       "7                           2              1                1     15854  \n",
       "8                           2              1                1     15686  \n",
       "9                           1              1                8      7871  \n",
       "10                          1              1                5      5254  \n",
       "11                          1              1                8      3957  \n",
       "12                          1              1                8      6073  \n",
       "13                          1              1                1     15665  \n",
       "14                          1              0                5      5378  \n",
       "15                          1              0                4      2079  \n",
       "16                          1              0                2     13055  \n",
       "17                          1              0                5      8851  \n",
       "18                          1              1                1     11788  \n",
       "19                         4+              1                1     19614  "
      ]
     },
     "execution_count": 80,
     "metadata": {},
     "output_type": "execute_result"
    }
   ],
   "source": [
    "df.head(20)"
   ]
  },
  {
   "cell_type": "code",
   "execution_count": 81,
   "id": "6c2910a9",
   "metadata": {},
   "outputs": [
    {
     "data": {
      "text/plain": [
       "array(['0-17', '55+', '26-35', '46-50', '51-55', '36-45', '18-25'],\n",
       "      dtype=object)"
      ]
     },
     "execution_count": 81,
     "metadata": {},
     "output_type": "execute_result"
    }
   ],
   "source": [
    "df[\"Age\"].unique()"
   ]
  },
  {
   "cell_type": "code",
   "execution_count": 82,
   "id": "f95fc791",
   "metadata": {},
   "outputs": [
    {
     "data": {
      "text/plain": [
       "26-35    219587\n",
       "36-45    110013\n",
       "18-25     99660\n",
       "46-50     45701\n",
       "51-55     38501\n",
       "55+       21504\n",
       "0-17      15102\n",
       "Name: Age, dtype: int64"
      ]
     },
     "execution_count": 82,
     "metadata": {},
     "output_type": "execute_result"
    }
   ],
   "source": [
    "df[\"Age\"].value_counts()"
   ]
  },
  {
   "cell_type": "code",
   "execution_count": 83,
   "id": "b5d16c15",
   "metadata": {},
   "outputs": [
    {
     "name": "stdout",
     "output_type": "stream",
     "text": [
      "Mean Purchase by Age Group:\n",
      "Age\n",
      "0-17     8933.464640\n",
      "18-25    9169.663606\n",
      "26-35    9252.690633\n",
      "36-45    9331.350695\n",
      "46-50    9208.625697\n",
      "51-55    9534.808031\n",
      "55+      9336.280459\n",
      "Name: Purchase, dtype: float64\n",
      "Confidence Intervals by Age Group:\n",
      "{'0-17': (8851.946472627222, 9014.982808262726), '55+': (9269.297603592035, 9403.263315306775), '26-35': (9231.733291303959, 9273.647974435817), '46-50': (9163.084305814991, 9254.167089121664), '51-55': (9483.990538993237, 9585.625522927234), '36-45': (9301.668865554733, 9361.032524281014), '18-25': (9138.407374412845, 9200.919838109732)}\n"
     ]
    }
   ],
   "source": [
    "# Calculate means and standard deviations by age group\n",
    "mean_purchase_by_age = df.groupby('Age')['Purchase'].mean()\n",
    "std_purchase_by_age = df.groupby('Age')['Purchase'].std()\n",
    "\n",
    "# Calculate confidence intervals for each age group\n",
    "age_groups = df['Age'].unique()\n",
    "\n",
    "confidence_intervals = {}\n",
    "for age_group in age_groups:\n",
    "    n_age_group = df['Age'].value_counts()[age_group]\n",
    "    margin_error_age_group = 1.96 * (std_purchase_by_age[age_group] / (n_age_group ** 0.5))\n",
    "    ci_age_group = (mean_purchase_by_age[age_group] - margin_error_age_group, mean_purchase_by_age[age_group] + margin_error_age_group)\n",
    "    confidence_intervals[age_group] = ci_age_group\n",
    "\n",
    "print(\"Mean Purchase by Age Group:\")\n",
    "print(mean_purchase_by_age)\n",
    "print(\"Confidence Intervals by Age Group:\")\n",
    "print(confidence_intervals)"
   ]
  },
  {
   "cell_type": "code",
   "execution_count": 84,
   "id": "1948ec79",
   "metadata": {},
   "outputs": [
    {
     "data": {
      "image/png": "[encoded data removed]",
      "text/plain": [
       "<Figure size 864x432 with 1 Axes>"
      ]
     },
     "metadata": {
      "needs_background": "light"
     },
     "output_type": "display_data"
    }
   ],
   "source": [
    "# Create histograms by age group\n",
    "plt.figure(figsize=(12, 6))\n",
    "for age_group in age_groups:\n",
    "    df[df['Age'] == age_group]['Purchase'].plot.hist(alpha=0.5, bins=30, label=age_group)\n",
    "\n",
    "plt.xlabel('Purchase Amount')\n",
    "plt.ylabel('Frequency')\n",
    "plt.title('Distribution of Expenses by Age Group')\n",
    "plt.legend(title='Age Group')\n",
    "plt.show()"
   ]
  },
  {
   "cell_type": "markdown",
   "id": "0a73a734",
   "metadata": {},
   "source": [
    "### Insights:\n",
    "\n",
    "Spending Differences by Gender: In our dataset, there are more male customers than female customers. On average, men tend to spend more per shopping trip than women. This is partly because there are more men in the dataset, but other factors may also contribute."
   ]
  },
  {
   "cell_type": "code",
   "execution_count": null,
   "id": "6ed77086",
   "metadata": {},
   "outputs": [],
   "source": []
  },
  {
   "cell_type": "markdown",
   "id": "05db7e81",
   "metadata": {},
   "source": [
    "### Recommendations:\n",
    "\n",
    "1.Targeted Marketing: Company can create advertisements and promotions that specifically appeal to men and women. \n",
    "By understanding what each group likes, it can make its advertising more effective.\n",
    "\n",
    "2.Product Choices: Company can look at which types of products are popular with men and women and make sure \n",
    "those products are easy to find and buy in the store.\n",
    "\n",
    "3.Different Groups: Company can also look at other factors, like how old customers are, where they live, \n",
    "and if they're married or not. This can help to figure out how to make shopping better for different types of customers.\n",
    "\n",
    "4.Consistent Shopping: While Company is making shopping better for different groups, it's important to \n",
    "make sure that everyone has a good shopping experience, no matter who they are.\n",
    "\n",
    "5.Keep Learning: Company should always pay attention to what customers are doing and keep trying to make\n",
    "things better. This way, they can keep up with what customers like and make shopping even better.\n",
    "\n",
    "6.Good Prices: Company can use what they know about how customers spend money to make sure their prices are \n",
    "good and that they're giving good deals."
   ]
  },
  {
   "cell_type": "code",
   "execution_count": null,
   "id": "7d26dca7",
   "metadata": {},
   "outputs": [],
   "source": []
  },
  {
   "cell_type": "code",
   "execution_count": null,
   "id": "97dce195",
   "metadata": {},
   "outputs": [],
   "source": []
  },
  {
   "cell_type": "code",
   "execution_count": null,
   "id": "081288da",
   "metadata": {},
   "outputs": [],
   "source": []
  },
  {
   "cell_type": "code",
   "execution_count": null,
   "id": "3a7ccb9c",
   "metadata": {},
   "outputs": [],
   "source": []
  },
  {
   "cell_type": "code",
   "execution_count": null,
   "id": "396fbd38",
   "metadata": {},
   "outputs": [],
   "source": []
  },
  {
   "cell_type": "code",
   "execution_count": null,
   "id": "38aab600",
   "metadata": {},
   "outputs": [],
   "source": []
  },
  {
   "cell_type": "code",
   "execution_count": null,
   "id": "a4f7b90b",
   "metadata": {},
   "outputs": [],
   "source": []
  },
  {
   "cell_type": "code",
   "execution_count": null,
   "id": "a9bc8893",
   "metadata": {},
   "outputs": [],
   "source": []
  },
  {
   "cell_type": "code",
   "execution_count": null,
   "id": "f3b4fdbe",
   "metadata": {},
   "outputs": [],
   "source": []
  },
  {
   "cell_type": "code",
   "execution_count": null,
   "id": "2590ba60",
   "metadata": {},
   "outputs": [],
   "source": []
  },
  {
   "cell_type": "code",
   "execution_count": null,
   "id": "25c1441c",
   "metadata": {},
   "outputs": [],
   "source": []
  }
 ],
 "metadata": {
  "kernelspec": {
   "display_name": "Python 3 (ipykernel)",
   "language": "python",
   "name": "python3"
  },
  "language_info": {
   "codemirror_mode": {
    "name": "ipython",
    "version": 3
   },
   "file_extension": ".py",
   "mimetype": "text/x-python",
   "name": "python",
   "nbconvert_exporter": "python",
   "pygments_lexer": "ipython3",
   "version": "3.9.12"
  }
 },
 "nbformat": 4,
 "nbformat_minor": 5
}
